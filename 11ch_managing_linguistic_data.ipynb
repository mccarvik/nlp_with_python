{
 "cells": [
  {
   "cell_type": "markdown",
   "metadata": {},
   "source": [
    "# NLTK Chapter 11\n",
    "\n",
    "## Managing Linguistic Data\n",
    "\n",
    "*The html version of this chapter in the book is available [here](https://www.nltk.org/book/ch11.html \"ch11\").*\n",
    "\n",
    "### 1   Corpus Structure: a Case Study\n",
    "\n",
    "#### 1.1   The Structure of TIMIT\n",
    "\n",
    "We can acces a sample from the TIMIT corpus thusly:"
   ]
  },
  {
   "cell_type": "code",
   "execution_count": 423,
   "metadata": {},
   "outputs": [
    {
     "data": {
      "text/plain": [
       "['dr1-fvmh0/sa1.phn',\n",
       " 'dr1-fvmh0/sa1.txt',\n",
       " 'dr1-fvmh0/sa1.wav',\n",
       " 'dr1-fvmh0/sa1.wrd',\n",
       " 'dr1-fvmh0/sa2.phn',\n",
       " 'dr1-fvmh0/sa2.txt',\n",
       " 'dr1-fvmh0/sa2.wav',\n",
       " 'dr1-fvmh0/sa2.wrd']"
      ]
     },
     "execution_count": 423,
     "metadata": {},
     "output_type": "execute_result"
    }
   ],
   "source": [
    "import nltk\n",
    "\n",
    "from nltk.corpus import timit as TT\n",
    "\n",
    "TT.fileids()[:8]"
   ]
  },
  {
   "cell_type": "markdown",
   "metadata": {},
   "source": [
    "Each filename has this internal structure:"
   ]
  },
  {
   "cell_type": "code",
   "execution_count": 424,
   "metadata": {},
   "outputs": [],
   "source": [
    "from IPython.display import display, Image\n",
    "\n",
    "# display(Image(filename = \"C:\\\\Users\\\\mjcor\\\\Desktop\\\\ProgrammingStuff\\\\nltk\\\\timit.png\"))"
   ]
  },
  {
   "cell_type": "markdown",
   "metadata": {},
   "source": [
    "The (rather idiosyncratic) phonetic transcription can be accessed with `phones()`:"
   ]
  },
  {
   "cell_type": "code",
   "execution_count": 425,
   "metadata": {},
   "outputs": [
    {
     "name": "stdout",
     "output_type": "stream",
     "text": [
      "['h#', 'sh', 'iy', 'hv', 'ae', 'dcl', 'y', 'ix', 'dcl', 'd', 'aa', 'kcl', 's', 'ux', 'tcl', 'en', 'gcl', 'g', 'r', 'iy', 's', 'iy', 'w', 'aa', 'sh', 'epi', 'w', 'aa', 'dx', 'ax', 'q', 'ao', 'l', 'y', 'ih', 'ax', 'h#'] "
     ]
    }
   ],
   "source": [
    "phonetic = TT.phones('dr1-fvmh0/sa1')\n",
    "print(phonetic, end = ' ')"
   ]
  },
  {
   "cell_type": "code",
   "execution_count": 426,
   "metadata": {},
   "outputs": [
    {
     "name": "stdout",
     "output_type": "stream",
     "text": [
      "[('she', 7812, 10610), ('had', 10610, 14496), ('your', 14496, 15791), ('dark', 15791, 20720), ('suit', 20720, 25647), ('in', 25647, 26906), ('greasy', 26906, 32668), ('wash', 32668, 37890), ('water', 38531, 42417), ('all', 43091, 46052), ('year', 46052, 50522)] "
     ]
    }
   ],
   "source": [
    "print(TT.word_times('dr1-fvmh0/sa1'), end = ' ')"
   ]
  },
  {
   "cell_type": "markdown",
   "metadata": {},
   "source": [
    "For reference, there is a lexicon with the canonical pronunciation of every word:"
   ]
  },
  {
   "cell_type": "code",
   "execution_count": 427,
   "metadata": {},
   "outputs": [
    {
     "data": {
      "text/plain": [
       "['g', 'r', 'iy1', 's', 'iy', 'w', 'ao1', 'sh', 'w', 'ao1', 't', 'axr']"
      ]
     },
     "execution_count": 427,
     "metadata": {},
     "output_type": "execute_result"
    }
   ],
   "source": [
    "timitdict = nltk.corpus.timit.transcription_dict()\n",
    "timitdict['greasy'] + timitdict['wash'] + timitdict['water']"
   ]
  },
  {
   "cell_type": "code",
   "execution_count": 428,
   "metadata": {},
   "outputs": [
    {
     "data": {
      "text/plain": [
       "['g', 'r', 'iy', 's', 'iy', 'w', 'aa', 'sh', 'epi', 'w', 'aa', 'dx', 'ax']"
      ]
     },
     "execution_count": 428,
     "metadata": {},
     "output_type": "execute_result"
    }
   ],
   "source": [
    "phonetic[17:30]"
   ]
  },
  {
   "cell_type": "markdown",
   "metadata": {},
   "source": [
    "We also have access to demographic info on the speakers:"
   ]
  },
  {
   "cell_type": "code",
   "execution_count": 429,
   "metadata": {},
   "outputs": [
    {
     "data": {
      "text/plain": [
       "SpeakerInfo(id='VMH0', sex='F', dr='1', use='TRN', recdate='03/11/86', birthdate='01/08/60', ht='5\\'05\"', race='WHT', edu='BS', comments='BEST NEW ENGLAND ACCENT SO FAR')"
      ]
     },
     "execution_count": 429,
     "metadata": {},
     "output_type": "execute_result"
    }
   ],
   "source": [
    "TT.spkrinfo('dr1-fvmh0')"
   ]
  },
  {
   "cell_type": "markdown",
   "metadata": {},
   "source": [
    "#### 1.2   Notable Design Features\n",
    "\n",
    "*__Figure 1.2__: Structure of the Published TIMIT Corpus: The CD-ROM contains doc, train, and test directories at the top level; the train and test directories both have 8 sub-directories, one per dialect region; each of these contains further subdirectories, one per speaker; the contents of the directory for female speaker aks0 are listed, showing 10 wav files accompanied by a text transcription, a word-aligned transcription, and a phonetic transcription.*"
   ]
  },
  {
   "cell_type": "code",
   "execution_count": 430,
   "metadata": {},
   "outputs": [],
   "source": [
    "# display(Image(filename = \"C:\\\\Users\\\\mjcor\\\\Desktop\\\\ProgrammingStuff\\\\nltk\\\\timit-structure.png\"))"
   ]
  },
  {
   "cell_type": "markdown",
   "metadata": {},
   "source": [
    "#### 1.3   Fundamental Data Types\n",
    "\n",
    "*__Figure 1.3__: Basic Linguistic Data Types — Lexicons and Texts: amid their diversity, lexicons have a record structure, while annotated texts have a temporal organization.*"
   ]
  },
  {
   "cell_type": "code",
   "execution_count": 431,
   "metadata": {},
   "outputs": [],
   "source": [
    "# display(Image(filename = \"C:\\\\Users\\\\mjcor\\\\Desktop\\\\ProgrammingStuff\\\\nltk\\\\datatypes.png\"))"
   ]
  },
  {
   "cell_type": "markdown",
   "metadata": {},
   "source": [
    "### 2   The Life-Cycle of a Corpus\n",
    "\n",
    "#### 2.1 Three Corpus Creation Scenarios\n",
    "\n",
    "*__No notes.__*\n",
    "\n",
    "#### 2.2 Quality Control \n",
    "\n",
    "*__Figure 2.1__: Three Segmentations of a Sequence: The small rectangles represent characters, words, sentences, in short, any sequence which might be divided into linguistic units; $S_1$ and $S_2$ are in close agreement, but both differ significantly from $S_3$.*\n",
    "\n",
    "\n"
   ]
  },
  {
   "cell_type": "code",
   "execution_count": 432,
   "metadata": {},
   "outputs": [],
   "source": [
    "# display(Image(filename = \"C:\\\\Users\\\\mjcor\\\\Desktop\\\\ProgrammingStuff\\\\nltk\\\\windowdiff.png\"))"
   ]
  },
  {
   "cell_type": "markdown",
   "metadata": {},
   "source": [
    "We can use `windowdiff` to measure similarity.  The last argument is the window size, which can be modified to control the sensitivity of the measure:"
   ]
  },
  {
   "cell_type": "code",
   "execution_count": 433,
   "metadata": {},
   "outputs": [
    {
     "data": {
      "text/plain": [
       "0.0"
      ]
     },
     "execution_count": 433,
     "metadata": {},
     "output_type": "execute_result"
    }
   ],
   "source": [
    "s1 = \"00000010000000001000000\"\n",
    "s2 = \"00000001000000010000000\"\n",
    "s3 = \"00010000000000000001000\"\n",
    "nltk.windowdiff(s1, s1, 3)"
   ]
  },
  {
   "cell_type": "code",
   "execution_count": 434,
   "metadata": {},
   "outputs": [
    {
     "data": {
      "text/plain": [
       "0.19047619047619047"
      ]
     },
     "execution_count": 434,
     "metadata": {},
     "output_type": "execute_result"
    }
   ],
   "source": [
    "nltk.windowdiff(s1, s2, 3)"
   ]
  },
  {
   "cell_type": "code",
   "execution_count": 435,
   "metadata": {},
   "outputs": [
    {
     "data": {
      "text/plain": [
       "0.5714285714285714"
      ]
     },
     "execution_count": 435,
     "metadata": {},
     "output_type": "execute_result"
    }
   ],
   "source": [
    "nltk.windowdiff(s2, s3, 3)"
   ]
  },
  {
   "cell_type": "markdown",
   "metadata": {},
   "source": [
    "*Here's a plot showing how sensitivity varies by window size.  There's no clear pattern here.*"
   ]
  },
  {
   "cell_type": "code",
   "execution_count": 436,
   "metadata": {},
   "outputs": [],
   "source": [
    "%matplotlib inline"
   ]
  },
  {
   "cell_type": "code",
   "execution_count": 437,
   "metadata": {},
   "outputs": [
    {
     "data": {
      "image/png": "[encoded data removed]",
      "text/plain": [
       "<Figure size 1200x800 with 1 Axes>"
      ]
     },
     "metadata": {},
     "output_type": "display_data"
    }
   ],
   "source": [
    "import matplotlib.pyplot as plt\n",
    "\n",
    "X = range(1, 24)\n",
    "\n",
    "s1_s2 = [nltk.windowdiff(s1, s2, i) for i in X]\n",
    "s1_s3 = [nltk.windowdiff(s1, s3, i) for i in X]\n",
    "s2_s3 = [nltk.windowdiff(s2, s3, i) for i in X]\n",
    "\n",
    "plt.figure(figsize = (12, 8))\n",
    "plt.plot(X, s1_s2, 'b--', label = 's1 v. s2')\n",
    "plt.plot(X, s1_s3, 'r:', label = 's1 v. s3')\n",
    "plt.plot(X, s2_s3, 'g--', label = 's2 v. s3')\n",
    "plt.title(\"`windowdiff` Sensitivity by Window Size\")\n",
    "plt.xlabel('Window Size')\n",
    "plt.ylabel('Segmentation Agreement')\n",
    "plt.legend()\n",
    "plt.show()"
   ]
  },
  {
   "cell_type": "markdown",
   "metadata": {},
   "source": [
    "#### 2.3   Curation vs Evolution\n",
    "\n",
    "*__Figure 2.2__: Evolution of a Corpus over Time: After a corpus is published, research groups will use it independently, selecting and enriching different pieces; later research that seeks to integrate separate annotations confronts the difficult challenge of aligning the annotations.*"
   ]
  },
  {
   "cell_type": "code",
   "execution_count": 438,
   "metadata": {},
   "outputs": [],
   "source": [
    "# display(Image(filename = \"C:\\\\Users\\\\mjcor\\\\Desktop\\\\ProgrammingStuff\\\\nltk\\\\evolution.png\"))"
   ]
  },
  {
   "cell_type": "markdown",
   "metadata": {},
   "source": [
    "### 3   Acquiring Data\n",
    "\n",
    "#### 3.1   Obtaining Data from the Web\n",
    "\n",
    "*__No notes__*\n",
    "\n",
    "#### 3.2   Obtaining Data from Word Processor Files\n",
    "\n",
    "Many corpora are created with word processors. While word processors have macro functions, they aren't sophisticated enough to handle searching for sets of classes.  However, if we convert the file to HTML, we can inspect the resulting file.\n",
    "\n",
    "```\n",
    "<p class=MsoNormal>sleep\n",
    "  <span style='mso-spacerun:yes'> </span>\n",
    "  [<span class=SpellE>sli:p</span>]\n",
    "  <span style='mso-spacerun:yes'> </span>\n",
    "  <b><span style='font-size:11.0pt'>v.i.</span></b>\n",
    "  <span style='mso-spacerun:yes'> </span>\n",
    "  <i>a condition of body and mind ...<o:p></o:p></i>\n",
    "</p>\n",
    "```\n",
    "\n",
    "*__N.B.__: I cut and paste this text and saved it in a file named `dict.htm`.  Converting a text in the current version of MSWord to HTML produces something much, much different.*\n",
    "\n",
    "\n",
    "If we know that the part-of-speech field is saved in 11-point font, we could look for text inside a `<span\n",
    "style='font-size:11.0pt'>` element.  "
   ]
  },
  {
   "cell_type": "code",
   "execution_count": 439,
   "metadata": {},
   "outputs": [],
   "source": [
    "import os, re\n",
    "\n",
    "# path = 'C:\\\\Users\\\\mjcor\\\\Desktop\\\\ProgrammingStuff\\\\nltk'\n",
    "\n",
    "# os.chdir(path)"
   ]
  },
  {
   "cell_type": "code",
   "execution_count": 440,
   "metadata": {},
   "outputs": [
    {
     "name": "stdout",
     "output_type": "stream",
     "text": [
      "['v.i.']\n"
     ]
    }
   ],
   "source": [
    "legal_pos = set(['n', 'v.t', 'v.i', 'adj', 'det'])\n",
    "pattern = re.compile(r\"'font-size:11.0pt'>([a-z.]+)<\")\n",
    "document = open(\"data/dict.htm\", encoding = \"windows-1252\").read()\n",
    "used_pos = set(re.findall(pattern, document))\n",
    "illegal_pos = used_pos.difference(legal_pos)\n",
    "print(list(illegal_pos))"
   ]
  },
  {
   "cell_type": "markdown",
   "metadata": {},
   "source": [
    "The code below strips out HTML markup and extracts the words and their pronunciations into CSV.  I changed the code in the second cell slightly - without the changes the CSV file would not change, and we could not look at that resulting file:"
   ]
  },
  {
   "cell_type": "code",
   "execution_count": 441,
   "metadata": {},
   "outputs": [],
   "source": [
    "from bs4 import BeautifulSoup\n",
    "\n",
    "def lexical_data(html_file, encoding = 'utf-8'):\n",
    "    SEP = '_ENTRY'\n",
    "    html = open(html_file, encoding = encoding).read()\n",
    "    html = re.sub(r'<p', SEP + '<p', html)\n",
    "    text = BeautifulSoup(html, 'html.parser').get_text()\n",
    "    text = ' '.join(text.split())\n",
    "    for entry in text.split(SEP):\n",
    "        if entry.count(' ') > 2:\n",
    "            yield entry.split(' ', 3)"
   ]
  },
  {
   "cell_type": "code",
   "execution_count": 442,
   "metadata": {},
   "outputs": [],
   "source": [
    "import csv\n",
    "\n",
    "df = open(\"output/dict1.csv\", \"w\", encoding = 'utf-8')\n",
    "writer = csv.writer(df)\n",
    "writer.writerows(lexical_data(\"data/dict.htm\", encoding = 'windows-1252'))\n",
    "df.close()"
   ]
  },
  {
   "cell_type": "markdown",
   "metadata": {},
   "source": [
    "#### 3.3   Obtaining Data from Spreadsheets and Databases\n",
    "\n",
    "Using text from the book to create `dict.csv`, and carrying out the query laid out in the book: *select all words that appear in example sentences for which no dictionary entry is provided.*"
   ]
  },
  {
   "cell_type": "code",
   "execution_count": 443,
   "metadata": {},
   "outputs": [
    {
     "name": "stdout",
     "output_type": "stream",
     "text": [
      "['...', 'a', 'and', 'body', 'by', 'cease', 'condition', 'down', 'each', 'foot', 'lifting', 'mind', 'of', 'progress', 'setting', 'to'] "
     ]
    }
   ],
   "source": [
    "import csv\n",
    "lexicon = csv.reader(open('data/dict.csv'))\n",
    "pairs = [(lexeme, defn) for (lexeme, _, _, defn) in lexicon]\n",
    "lexemes, defns = zip(*pairs)\n",
    "defn_words = set(w for defn in defns for w in defn.split())\n",
    "print(sorted(defn_words.difference(lexemes)), end = ' ')"
   ]
  },
  {
   "cell_type": "markdown",
   "metadata": {},
   "source": [
    "#### 3.4   Converting Data Formats\n",
    "\n",
    "Here is code mapping the words in the dictionary definitions (cf. above) to their definitions:"
   ]
  },
  {
   "cell_type": "code",
   "execution_count": 444,
   "metadata": {},
   "outputs": [],
   "source": [
    "idx = nltk.Index((defn_word, lexeme)\n",
    "                for (lexeme, defn) in pairs\n",
    "                for defn_word in nltk.word_tokenize(defn)\n",
    "                if len(defn_word) > 3)\n",
    "            "
   ]
  },
  {
   "cell_type": "code",
   "execution_count": 445,
   "metadata": {},
   "outputs": [],
   "source": [
    "with open(\"data/dict.idx\", \"w\") as idx_file:\n",
    "    for word in sorted(idx):\n",
    "        idx_words = ', '.join(idx[word])\n",
    "        idx_line = \"{}: {}\".format(word, idx_words)\n",
    "        print(idx_line, file = idx_file)"
   ]
  },
  {
   "cell_type": "markdown",
   "metadata": {},
   "source": [
    "Here is the resulting `dict.idx` file:\n",
    "\n",
    "```\n",
    "body: sleep\n",
    "cease: wake\n",
    "condition: sleep\n",
    "down: walk\n",
    "each: walk\n",
    "foot: walk\n",
    "lifting: walk\n",
    "mind: sleep\n",
    "progress: walk\n",
    "setting: walk\n",
    "sleep: wake\n",
    "```"
   ]
  },
  {
   "cell_type": "markdown",
   "metadata": {},
   "source": [
    "#### 3.5   Deciding Which Layers of Annotation to Include\n",
    "\n",
    "Commonly provided annotation layers:\n",
    "\n",
    "\n",
    "* Word Tokenization: The orthographic form of text does not unambiguously identify its tokens. A tokenized and normalized version, in addition to the conventional orthographic version, may be a very convenient resource.\n",
    "* Sentence Segmentation: As we saw in [3](https://www.nltk.org/book/ch03.html#chap-words), sentence segmentation can be more difficult than it seems. Some corpora therefore use explicit annotations to mark sentence segmentation.\n",
    "* Paragraph Segmentation: Paragraphs and other structural elements (headings, chapters, etc.) may be explicitly annotated.\n",
    "* Part of Speech: The syntactic category of each word in a document.\n",
    "* Syntactic Structure: A tree structure showing the constituent structure of a sentence.\n",
    "* Shallow Semantics: Named entity and coreference annotations, semantic role labels.\n",
    "* Dialogue and Discourse: dialogue act tags, rhetorical structure\n"
   ]
  },
  {
   "cell_type": "markdown",
   "metadata": {},
   "source": [
    "#### 3.6   Standards and Tools\n",
    "\n",
    "*__Figure 3.2__: A Common Format vs A Common Interface*\n",
    "\n"
   ]
  },
  {
   "cell_type": "code",
   "execution_count": 446,
   "metadata": {},
   "outputs": [],
   "source": [
    "# display(Image(filename = \"C:\\\\Users\\\\mjcor\\\\Desktop\\\\ProgrammingStuff\\\\nltk\\\\three-layer-arch.png\"))"
   ]
  },
  {
   "cell_type": "markdown",
   "metadata": {},
   "source": [
    "#### 3.7   Special Considerations when Working with Endangered Languages\n",
    "\n",
    "One problem with endangered languages is that there may not be an established orthography. Here's a program that permits lookup by pronunciation similarity.  It identifies confusible letter sequences and maps complex versions to simpler versions."
   ]
  },
  {
   "cell_type": "code",
   "execution_count": 447,
   "metadata": {},
   "outputs": [],
   "source": [
    "mappings = [('ph', 'f'), ('ght', 't'), ('^kn', 'n'), ('qu', 'kw'),\n",
    "            ('[aeiou]+', 'a'), (r'(.)\\1', r'\\1')]\n",
    "\n",
    "def signature(word):\n",
    "    for patt, repl in mappings:\n",
    "        word = re.sub(patt, repl, word)\n",
    "    pieces = re.findall('[^aeiou]+', word)\n",
    "    return ''.join(char for piece in pieces for char in sorted(piece))[:8]"
   ]
  },
  {
   "cell_type": "code",
   "execution_count": 448,
   "metadata": {},
   "outputs": [
    {
     "data": {
      "text/plain": [
       "'lfnt'"
      ]
     },
     "execution_count": 448,
     "metadata": {},
     "output_type": "execute_result"
    }
   ],
   "source": [
    "signature('illefent')"
   ]
  },
  {
   "cell_type": "code",
   "execution_count": 449,
   "metadata": {},
   "outputs": [
    {
     "data": {
      "text/plain": [
       "'bskws'"
      ]
     },
     "execution_count": 449,
     "metadata": {},
     "output_type": "execute_result"
    }
   ],
   "source": [
    "signature('ebsekwieous')"
   ]
  },
  {
   "cell_type": "code",
   "execution_count": 450,
   "metadata": {},
   "outputs": [
    {
     "data": {
      "text/plain": [
       "'nclr'"
      ]
     },
     "execution_count": 450,
     "metadata": {},
     "output_type": "execute_result"
    }
   ],
   "source": [
    "signature('nuculerr')"
   ]
  },
  {
   "cell_type": "markdown",
   "metadata": {},
   "source": [
    "Now we can create a mapping from signatures to words so that we can create candidate corrections for a given input:"
   ]
  },
  {
   "cell_type": "code",
   "execution_count": 451,
   "metadata": {},
   "outputs": [],
   "source": [
    "signatures = nltk.Index((signature(w), w) for w in nltk.corpus.words.words())"
   ]
  },
  {
   "cell_type": "code",
   "execution_count": 452,
   "metadata": {},
   "outputs": [
    {
     "data": {
      "text/plain": [
       "['anicular',\n",
       " 'inocular',\n",
       " 'nucellar',\n",
       " 'nuclear',\n",
       " 'unicolor',\n",
       " 'uniocular',\n",
       " 'unocular']"
      ]
     },
     "execution_count": 452,
     "metadata": {},
     "output_type": "execute_result"
    }
   ],
   "source": [
    "signatures[signature('nuculerr')]"
   ]
  },
  {
   "cell_type": "markdown",
   "metadata": {},
   "source": [
    "Next we can rank the results by their similarity with the original word:"
   ]
  },
  {
   "cell_type": "code",
   "execution_count": 453,
   "metadata": {},
   "outputs": [],
   "source": [
    "def rank(word, wordlist):\n",
    "    ranked = sorted((nltk.edit_distance(word, w), w) for w in wordlist)\n",
    "    return [word for(_, word) in ranked]\n",
    "\n",
    "def fuzzy_spell(word):\n",
    "    sig = signature(word)\n",
    "    if sig in signatures:\n",
    "        return rank(word, signatures[sig])\n",
    "    else:\n",
    "        return []"
   ]
  },
  {
   "cell_type": "code",
   "execution_count": 454,
   "metadata": {},
   "outputs": [
    {
     "data": {
      "text/plain": [
       "['olefiant', 'elephant', 'oliphant', 'elephanta']"
      ]
     },
     "execution_count": 454,
     "metadata": {},
     "output_type": "execute_result"
    }
   ],
   "source": [
    "fuzzy_spell('illefent')"
   ]
  },
  {
   "cell_type": "code",
   "execution_count": 455,
   "metadata": {},
   "outputs": [
    {
     "data": {
      "text/plain": [
       "['obsequious']"
      ]
     },
     "execution_count": 455,
     "metadata": {},
     "output_type": "execute_result"
    }
   ],
   "source": [
    "fuzzy_spell('ebsekwieous')"
   ]
  },
  {
   "cell_type": "code",
   "execution_count": 456,
   "metadata": {},
   "outputs": [
    {
     "data": {
      "text/plain": [
       "['anicular',\n",
       " 'inocular',\n",
       " 'nucellar',\n",
       " 'nuclear',\n",
       " 'unocular',\n",
       " 'uniocular',\n",
       " 'unicolor']"
      ]
     },
     "execution_count": 456,
     "metadata": {},
     "output_type": "execute_result"
    }
   ],
   "source": [
    "fuzzy_spell('nucular')"
   ]
  },
  {
   "cell_type": "markdown",
   "metadata": {},
   "source": [
    "### 4   Working with XML\n",
    "\n",
    "#### 4.1   Using XML for Linguistic Structures\n",
    "\n",
    "Simple lexical entry in XML:\n",
    "\n",
    "```\n",
    "<entry>\n",
    "  <headword>whale</headword>\n",
    "  <pos>noun</pos>\n",
    "  <gloss>any of the larger cetacean mammals having a streamlined\n",
    "    body and breathing through a blowhole on the head</gloss>\n",
    "</entry>\n",
    "\n",
    "```\n",
    "\n",
    "Here is a entry with links to WordNet via the `<synset>` tags:\n",
    "\n",
    "```\n",
    "<entry>\n",
    "  <headword>whale</headword>\n",
    "  <pos>noun</pos>\n",
    "  <sense>\n",
    "    <gloss>any of the larger cetacean mammals having a streamlined\n",
    "      body and breathing through a blowhole on the head</gloss>\n",
    "    <synset>whale.n.02</synset>\n",
    "  </sense>\n",
    "  <sense>\n",
    "    <gloss>a very large person; impressive in size or qualities</gloss>\n",
    "    <synset>giant.n.04</synset>\n",
    "  </sense>\n",
    "</entry>\n",
    "```\n",
    "\n",
    "Another way to do the same would be with __XML attributes__:\n",
    "\n",
    "```\n",
    "<entry>\n",
    "  <headword>whale</headword>\n",
    "  <pos>noun</pos>\n",
    "  <gloss synset=\"whale.n.02\">any of the larger cetacean mammals having\n",
    "      a streamlined body and breathing through a blowhole on the head</gloss>\n",
    "  <gloss synset=\"giant.n.04\">a very large person; impressive in size or\n",
    "      qualities</gloss>\n",
    "</entry>\n",
    "\n",
    "```\n",
    "\n",
    "#### 4.2  The Role of XML\n",
    "\n",
    "*__No notes__*\n",
    "\n",
    "#### 4.3 The ElementTree Interface\n",
    "\n",
    "Accessing the Shakespeare corpus with ElementTree"
   ]
  },
  {
   "cell_type": "code",
   "execution_count": 457,
   "metadata": {},
   "outputs": [
    {
     "name": "stdout",
     "output_type": "stream",
     "text": [
      "<?xml version=\"1.0\"?>\n",
      "<?xml-stylesheet type=\"text/css\" href=\"shakes.css\"?>\n",
      "<!-- <!DOCTYPE PLAY SYSTEM \"play.dtd\"> -->\n",
      "\n",
      "<PLAY>\n",
      "<TITLE>The Merchant of Venice</TITLE>\n"
     ]
    }
   ],
   "source": [
    "merchant_file = nltk.data.find('corpora/shakespeare/merchant.xml')\n",
    "raw = open(merchant_file).read()\n",
    "print(raw[:163])"
   ]
  },
  {
   "cell_type": "code",
   "execution_count": 458,
   "metadata": {},
   "outputs": [
    {
     "name": "stdout",
     "output_type": "stream",
     "text": [
      "<TITLE>ACT I</TITLE>\n",
      "\n",
      "<SCENE><TITLE>SCENE I.  Venice. A street.</TITLE>\n",
      "<STAGEDIR>Enter ANTONIO, SALARINO, and SALANIO</STAGEDIR>\n",
      "\n",
      "<SPEECH>\n",
      "<SPEAKER>ANTONIO</SPEAKER>\n",
      "<LINE>In sooth, I know not why I am so sad:</LINE>\n"
     ]
    }
   ],
   "source": [
    "print(raw[1789:2006])"
   ]
  },
  {
   "cell_type": "code",
   "execution_count": 459,
   "metadata": {},
   "outputs": [
    {
     "data": {
      "text/plain": [
       "<Element 'PLAY' at 0x0000012299CB54E0>"
      ]
     },
     "execution_count": 459,
     "metadata": {},
     "output_type": "execute_result"
    }
   ],
   "source": [
    "from xml.etree.ElementTree import ElementTree\n",
    "merchant = ElementTree().parse(merchant_file)\n",
    "merchant"
   ]
  },
  {
   "cell_type": "code",
   "execution_count": 460,
   "metadata": {},
   "outputs": [
    {
     "data": {
      "text/plain": [
       "<Element 'TITLE' at 0x0000012299CB43B0>"
      ]
     },
     "execution_count": 460,
     "metadata": {},
     "output_type": "execute_result"
    }
   ],
   "source": [
    "merchant[0]"
   ]
  },
  {
   "cell_type": "code",
   "execution_count": 461,
   "metadata": {},
   "outputs": [
    {
     "data": {
      "text/plain": [
       "'The Merchant of Venice'"
      ]
     },
     "execution_count": 461,
     "metadata": {},
     "output_type": "execute_result"
    }
   ],
   "source": [
    "merchant[0].text"
   ]
  },
  {
   "cell_type": "markdown",
   "metadata": {},
   "source": [
    "The function `.getchildren()` is being deprecated, so we need to use `list()` instead:"
   ]
  },
  {
   "cell_type": "code",
   "execution_count": 462,
   "metadata": {},
   "outputs": [
    {
     "data": {
      "text/plain": [
       "[<Element 'TITLE' at 0x0000012299CB43B0>,\n",
       " <Element 'PERSONAE' at 0x0000012299CB4F90>,\n",
       " <Element 'SCNDESCR' at 0x0000012299CB40E0>,\n",
       " <Element 'PLAYSUBT' at 0x0000012299CB50D0>,\n",
       " <Element 'ACT' at 0x0000012299CB4450>,\n",
       " <Element 'ACT' at 0x0000012297950BD0>,\n",
       " <Element 'ACT' at 0x0000012299770D60>,\n",
       " <Element 'ACT' at 0x00000122979B1350>,\n",
       " <Element 'ACT' at 0x0000012297885990>]"
      ]
     },
     "execution_count": 462,
     "metadata": {},
     "output_type": "execute_result"
    }
   ],
   "source": [
    "list(merchant)"
   ]
  },
  {
   "cell_type": "markdown",
   "metadata": {},
   "source": [
    "Digging down into the text:"
   ]
  },
  {
   "cell_type": "code",
   "execution_count": 463,
   "metadata": {},
   "outputs": [
    {
     "data": {
      "text/plain": [
       "'ACT IV'"
      ]
     },
     "execution_count": 463,
     "metadata": {},
     "output_type": "execute_result"
    }
   ],
   "source": [
    "merchant[-2][0].text"
   ]
  },
  {
   "cell_type": "code",
   "execution_count": 464,
   "metadata": {},
   "outputs": [
    {
     "data": {
      "text/plain": [
       "<Element 'SCENE' at 0x00000122979B17B0>"
      ]
     },
     "execution_count": 464,
     "metadata": {},
     "output_type": "execute_result"
    }
   ],
   "source": [
    "merchant[-2][1]"
   ]
  },
  {
   "cell_type": "code",
   "execution_count": 465,
   "metadata": {},
   "outputs": [
    {
     "data": {
      "text/plain": [
       "'SCENE I.  Venice. A court of justice.'"
      ]
     },
     "execution_count": 465,
     "metadata": {},
     "output_type": "execute_result"
    }
   ],
   "source": [
    "merchant[-2][1][0].text"
   ]
  },
  {
   "cell_type": "code",
   "execution_count": 466,
   "metadata": {},
   "outputs": [
    {
     "data": {
      "text/plain": [
       "<Element 'SPEECH' at 0x0000012299785670>"
      ]
     },
     "execution_count": 466,
     "metadata": {},
     "output_type": "execute_result"
    }
   ],
   "source": [
    "merchant[-2][1][54]"
   ]
  },
  {
   "cell_type": "code",
   "execution_count": 467,
   "metadata": {},
   "outputs": [
    {
     "data": {
      "text/plain": [
       "'PORTIA'"
      ]
     },
     "execution_count": 467,
     "metadata": {},
     "output_type": "execute_result"
    }
   ],
   "source": [
    "merchant[-2][1][54][0].text"
   ]
  },
  {
   "cell_type": "code",
   "execution_count": 468,
   "metadata": {},
   "outputs": [
    {
     "data": {
      "text/plain": [
       "<Element 'LINE' at 0x00000122997849F0>"
      ]
     },
     "execution_count": 468,
     "metadata": {},
     "output_type": "execute_result"
    }
   ],
   "source": [
    "merchant[-2][1][54][1]"
   ]
  },
  {
   "cell_type": "code",
   "execution_count": 469,
   "metadata": {},
   "outputs": [
    {
     "data": {
      "text/plain": [
       "\"The quality of mercy is not strain'd,\""
      ]
     },
     "execution_count": 469,
     "metadata": {},
     "output_type": "execute_result"
    }
   ],
   "source": [
    "merchant[-2][1][54][1].text"
   ]
  },
  {
   "cell_type": "markdown",
   "metadata": {},
   "source": [
    "__Your Turn:__ Repeat some of the above methods, for one of the other Shakespeare plays included in the corpus, such as *Romeo and Juliet* or *Macbeth*; for a list, see `nltk.corpus.shakespeare.fileids()`."
   ]
  },
  {
   "cell_type": "code",
   "execution_count": 470,
   "metadata": {},
   "outputs": [
    {
     "data": {
      "text/plain": [
       "['a_and_c.xml',\n",
       " 'dream.xml',\n",
       " 'hamlet.xml',\n",
       " 'j_caesar.xml',\n",
       " 'macbeth.xml',\n",
       " 'merchant.xml',\n",
       " 'othello.xml',\n",
       " 'r_and_j.xml']"
      ]
     },
     "execution_count": 470,
     "metadata": {},
     "output_type": "execute_result"
    }
   ],
   "source": [
    "nltk.corpus.shakespeare.fileids()"
   ]
  },
  {
   "cell_type": "markdown",
   "metadata": {},
   "source": [
    "Looking at *Anthony and Cleopatra*:"
   ]
  },
  {
   "cell_type": "code",
   "execution_count": 471,
   "metadata": {},
   "outputs": [
    {
     "name": "stdout",
     "output_type": "stream",
     "text": [
      "<?xml version=\"1.0\"?>\n",
      "<?xml-stylesheet type=\"text/css\" href=\"shakes.css\"?>\n",
      "<!-- <!DOCTYPE PLAY SYSTEM \"play.dtd\"> -->\n",
      "\n",
      "<PLAY>\n",
      "<TITLE>The Tragedy of Antony and Cleo\n"
     ]
    }
   ],
   "source": [
    "ac_file = nltk.data.find('corpora/shakespeare/a_and_c.xml')\n",
    "raw = open(ac_file).read()\n",
    "print(raw[:163])"
   ]
  },
  {
   "cell_type": "code",
   "execution_count": 472,
   "metadata": {},
   "outputs": [
    {
     "name": "stdout",
     "output_type": "stream",
     "text": [
      "<TITLE>ACT I</TITLE>\n",
      "\n",
      "<SCENE><TITLE>SCENE I.  Alexandria. A room in CLEOPATRA's palace.</TITLE>\n",
      "<STAGEDIR>Enter DEMETRIUS and PHILO</STAGEDIR>\n",
      "\n",
      "<SPEECH>\n",
      "<SPEAKER>PHILO</SPEAKER>\n",
      "<LINE>Nay, but this dotage of our general's</LINE>\n"
     ]
    }
   ],
   "source": [
    "print(raw[2203:2431])"
   ]
  },
  {
   "cell_type": "code",
   "execution_count": 473,
   "metadata": {},
   "outputs": [
    {
     "data": {
      "text/plain": [
       "<Element 'PLAY' at 0x00000122970C2C00>"
      ]
     },
     "execution_count": 473,
     "metadata": {},
     "output_type": "execute_result"
    }
   ],
   "source": [
    "ac = ElementTree().parse(ac_file)\n",
    "ac"
   ]
  },
  {
   "cell_type": "code",
   "execution_count": 474,
   "metadata": {},
   "outputs": [
    {
     "data": {
      "text/plain": [
       "[<Element 'TITLE' at 0x00000122970C2FC0>,\n",
       " <Element 'PERSONAE' at 0x00000122970C2F20>,\n",
       " <Element 'SCNDESCR' at 0x00000122970C0090>,\n",
       " <Element 'PLAYSUBT' at 0x00000122970C01D0>,\n",
       " <Element 'ACT' at 0x00000122970C20C0>,\n",
       " <Element 'ACT' at 0x0000012299C5A020>,\n",
       " <Element 'ACT' at 0x0000012299C53BA0>,\n",
       " <Element 'ACT' at 0x000001229793B560>,\n",
       " <Element 'ACT' at 0x00000122979F6B60>]"
      ]
     },
     "execution_count": 474,
     "metadata": {},
     "output_type": "execute_result"
    }
   ],
   "source": [
    "list(ac)"
   ]
  },
  {
   "cell_type": "code",
   "execution_count": 475,
   "metadata": {},
   "outputs": [
    {
     "data": {
      "text/plain": [
       "'ACT III'"
      ]
     },
     "execution_count": 475,
     "metadata": {},
     "output_type": "execute_result"
    }
   ],
   "source": [
    "ac[-3][0].text"
   ]
  },
  {
   "cell_type": "code",
   "execution_count": 476,
   "metadata": {},
   "outputs": [
    {
     "data": {
      "text/plain": [
       "'O Antony! O thou Arabian bird!'"
      ]
     },
     "execution_count": 476,
     "metadata": {},
     "output_type": "execute_result"
    }
   ],
   "source": [
    "ac[-3][2][10][1].text"
   ]
  },
  {
   "cell_type": "markdown",
   "metadata": {},
   "source": [
    "More convenient is to search for sub-elements by using the tags.  We can iterate over the types with `findall()` to find specific strings:"
   ]
  },
  {
   "cell_type": "code",
   "execution_count": 477,
   "metadata": {},
   "outputs": [
    {
     "name": "stdout",
     "output_type": "stream",
     "text": [
      "Act 3 Scene 2 Speech 9: Let music sound while he doth make his choice;\n",
      "Act 3 Scene 2 Speech 9: Fading in music: that the comparison\n",
      "Act 3 Scene 2 Speech 9: And what is music then? Then music is\n",
      "Act 5 Scene 1 Speech 23: And bring your music forth into the air.\n",
      "Act 5 Scene 1 Speech 23: Here will we sit and let the sounds of music\n",
      "Act 5 Scene 1 Speech 23: And draw her home with music.\n",
      "Act 5 Scene 1 Speech 24: I am never merry when I hear sweet music.\n",
      "Act 5 Scene 1 Speech 25: Or any air of music touch their ears,\n",
      "Act 5 Scene 1 Speech 25: By the sweet power of music: therefore the poet\n",
      "Act 5 Scene 1 Speech 25: But music for the time doth change his nature.\n",
      "Act 5 Scene 1 Speech 25: The man that hath no music in himself,\n",
      "Act 5 Scene 1 Speech 25: Let no such man be trusted. Mark the music.\n",
      "Act 5 Scene 1 Speech 29: It is your music, madam, of the house.\n",
      "Act 5 Scene 1 Speech 32: No better a musician than the wren.\n"
     ]
    }
   ],
   "source": [
    "for i, act in enumerate(merchant.findall('ACT')):\n",
    "    for j, scene in enumerate(act.findall('SCENE')):\n",
    "        for k, speech in enumerate(scene.findall('SPEECH')):\n",
    "            for line in speech.findall('LINE'):\n",
    "                if 'music' in str(line.text):\n",
    "                    print(\"Act {} Scene {} Speech {}: {}\".format(i + 1,\n",
    "                                                                 j + 1,\n",
    "                                                                 k + 1,\n",
    "                                                                 line.text))"
   ]
  },
  {
   "cell_type": "markdown",
   "metadata": {},
   "source": [
    "We can also search for particular embedded elements to see who speaks the most often:"
   ]
  },
  {
   "cell_type": "code",
   "execution_count": 478,
   "metadata": {},
   "outputs": [
    {
     "data": {
      "text/plain": [
       "[('PORTIA', 117),\n",
       " ('SHYLOCK', 79),\n",
       " ('BASSANIO', 73),\n",
       " ('GRATIANO', 48),\n",
       " ('ANTONIO', 47)]"
      ]
     },
     "execution_count": 478,
     "metadata": {},
     "output_type": "execute_result"
    }
   ],
   "source": [
    "from collections import Counter\n",
    "speaker_seq = [s.text for s in merchant.findall('ACT/SCENE/SPEECH/SPEAKER')]\n",
    "speaker_freq = Counter(speaker_seq)\n",
    "top5 = speaker_freq.most_common(5)\n",
    "top5"
   ]
  },
  {
   "cell_type": "markdown",
   "metadata": {},
   "source": [
    "Looking for patterns in who follows whom in the dialogues.  First, we'll reduce the number of speakers to the top 5:"
   ]
  },
  {
   "cell_type": "code",
   "execution_count": 479,
   "metadata": {},
   "outputs": [
    {
     "name": "stdout",
     "output_type": "stream",
     "text": [
      "     ANTO BASS GRAT  OTH PORT SHYL \n",
      "ANTO    0   11    4   11    9   12 \n",
      "BASS   10    0   11   10   26   16 \n",
      "GRAT    6    8    0   19    9    5 \n",
      " OTH    8   16   18  153   52   25 \n",
      "PORT    7   23   13   53    0   21 \n",
      "SHYL   15   15    2   26   21    0 \n"
     ]
    }
   ],
   "source": [
    "from collections import defaultdict\n",
    "abbreviate = defaultdict(lambda: 'OTH')\n",
    "for speaker, _ in top5:\n",
    "    abbreviate[speaker] = speaker[:4]\n",
    "    \n",
    "speaker_seq2 = [abbreviate[speaker] for speaker in speaker_seq]\n",
    "cfd = nltk.ConditionalFreqDist(nltk.bigrams(speaker_seq2))\n",
    "cfd.tabulate()"
   ]
  },
  {
   "cell_type": "markdown",
   "metadata": {},
   "source": [
    "Expanding this to all speakers in the play results in a very sparse matrix, which is not very informative:"
   ]
  },
  {
   "cell_type": "code",
   "execution_count": 480,
   "metadata": {},
   "outputs": [
    {
     "name": "stdout",
     "output_type": "stream",
     "text": [
      "      ALL ANTO ARRA BALT BASS Cler DUKE GOBB GRAT JESS LAUN LEON LORE MORO NERI PORT SALA SALE SHYL STEP Serv TUBA \n",
      " ALL    0    0    0    0    1    0    0    0    0    0    0    0    0    0    0    0    0    0    0    0    0    0 \n",
      "ANTO    0    0    0    0   11    0    4    0    4    0    0    0    1    1    0    9    5    0   12    0    0    0 \n",
      "ARRA    0    0    0    0    0    0    0    0    0    0    0    0    0    0    0    4    0    0    0    0    0    0 \n",
      "BALT    0    0    0    0    0    0    0    0    0    0    0    0    0    0    0    1    0    0    0    0    0    0 \n",
      "BASS    0   10    0    0    0    0    0    1   11    0    4    1    0    0    1   26    1    2   16    0    0    0 \n",
      "Cler    0    0    0    0    0    0    1    0    0    0    0    0    0    0    0    0    0    0    0    0    0    0 \n",
      "DUKE    0    2    0    0    2    1    0    0    1    0    0    0    0    0    2    6    0    2    2    0    0    0 \n",
      "GOBB    0    0    0    0    2    0    0    0    0    0   17    0    0    0    0    0    0    0    0    0    0    0 \n",
      "GRAT    0    6    0    0    8    0    2    0    0    1    1    1    3    0    6    9    4    1    5    0    0    0 \n",
      "JESS    0    0    0    0    0    0    1    0    2    0    4    0   15    0    0    2    0    0    2    0    0    0 \n",
      "LAUN    0    0    0    0    4    0    0   18    0    6    0    0   12    0    0    0    0    0    4    0    0    0 \n",
      "LEON    0    0    0    0    0    0    0    0    2    0    0    0    0    0    0    0    0    0    0    0    0    0 \n",
      "LORE    0    1    0    0    1    0    0    0    3   16   11    0    0    0    0    8    2    1    1    3    0    0 \n",
      "MORO    0    0    0    0    0    0    0    0    0    0    1    0    0    0    0    6    0    0    0    0    0    0 \n",
      "NERI    0    0    0    0    4    0    1    0    6    0    0    0    2    0    0   21    1    0    1    0    0    0 \n",
      "PORT    1    7    4    1   23    0    3    0   13    0    1    0    7    6   26    0    1    0   21    0    3    0 \n",
      "SALA    0    5    0    0    1    0    0    0    3    0    0    0    4    0    1    0   24    0    7    0    0    0 \n",
      "SALE    0    0    0    0    1    0    2    0    1    1    0    0    0    0    0    1    0    0    0    0    0    0 \n",
      "SHYL    0   15    0    0   15    0    4    0    2    2    5    0    0    0    0   21    6    0    0    0    1    8 \n",
      "STEP    0    0    0    0    0    0    0    0    0    0    0    0    3    0    0    0    0    0    0    0    0    0 \n",
      "Serv    0    0    0    0    0    0    0    0    0    0    0    0    0    0    0    3    1    0    0    0    0    0 \n",
      "TUBA    0    0    0    0    0    0    0    0    0    0    0    0    0    0    0    0    0    0    8    0    0    0 \n"
     ]
    }
   ],
   "source": [
    "from collections import defaultdict\n",
    "abbreviate = defaultdict(lambda: 'OTH')\n",
    "for speaker, _ in speaker_freq.items():\n",
    "    abbreviate[speaker] = speaker[:4]\n",
    "    \n",
    "speaker_seq2 = [abbreviate[speaker] for speaker in speaker_seq]\n",
    "cfd = nltk.ConditionalFreqDist(nltk.bigrams(speaker_seq2))\n",
    "cfd.tabulate()"
   ]
  },
  {
   "cell_type": "markdown",
   "metadata": {},
   "source": [
    "#### 4.4   Using ElementTree for Accessing Toolbox Data\n",
    "\n",
    "Accessing (again) the lexicon for the Rotokas language:"
   ]
  },
  {
   "cell_type": "code",
   "execution_count": 481,
   "metadata": {},
   "outputs": [],
   "source": [
    "from nltk.corpus import toolbox\n",
    "lexicon = toolbox.xml('rotokas.dic')"
   ]
  },
  {
   "cell_type": "code",
   "execution_count": 482,
   "metadata": {},
   "outputs": [
    {
     "data": {
      "text/plain": [
       "<Element 'lx' at 0x00000122979BB470>"
      ]
     },
     "execution_count": 482,
     "metadata": {},
     "output_type": "execute_result"
    }
   ],
   "source": [
    "lexicon[3][0]"
   ]
  },
  {
   "cell_type": "code",
   "execution_count": 483,
   "metadata": {},
   "outputs": [
    {
     "data": {
      "text/plain": [
       "'lx'"
      ]
     },
     "execution_count": 483,
     "metadata": {},
     "output_type": "execute_result"
    }
   ],
   "source": [
    "lexicon[3][0].tag"
   ]
  },
  {
   "cell_type": "code",
   "execution_count": 484,
   "metadata": {},
   "outputs": [
    {
     "data": {
      "text/plain": [
       "'kaa'"
      ]
     },
     "execution_count": 484,
     "metadata": {},
     "output_type": "execute_result"
    }
   ],
   "source": [
    "lexicon[3][0].text"
   ]
  },
  {
   "cell_type": "markdown",
   "metadata": {},
   "source": [
    "Using paths to find all the lexemes:"
   ]
  },
  {
   "cell_type": "code",
   "execution_count": 485,
   "metadata": {},
   "outputs": [
    {
     "name": "stdout",
     "output_type": "stream",
     "text": [
      "['kaa', 'kaa', 'kaa', 'kaakaaro', 'kaakaaviko', 'kaakaavo', 'kaakaoko', 'kaakasi', 'kaakau', 'kaakauko', 'kaakito', 'kaakuupato', 'kaaova', 'kaapa', 'kaapea', 'kaapie', 'kaapie', 'kaapiepato', 'kaapisi', 'kaapisivira', 'kaapo', 'kaapopato', 'kaara', 'kaare', 'kaareko', 'kaarekopie', 'kaareto', 'kaareva', 'kaava', 'kaavaaua', 'kaaveaka', 'kaaveakapie', 'kaaveakapievira', 'kaaveakavira', 'kae', 'kae', 'kaekae', 'kaekae', 'kaekaearo', 'kaekaeo', 'kaekaesoto', 'kaekaevira', 'kaekeru', 'kaepaa', 'kaepie', 'kaepie', 'kaepievira', 'kaereasi', 'kaereasivira', 'kaetu', 'kaetupie', 'kaetuvira', 'kaeviro', 'kagave', 'kaie', 'kaiea', 'kaikaio', 'kaio', 'kaipori', 'kaiporipie', 'kaiporivira', 'kairi', 'kairiro', 'kairo', 'kaita', 'kaitutu', 'kaitutupie', 'kaitutuvira', 'kakae', 'kakae', 'kakae', 'kakaevira', 'kakapikoa', 'kakapikoto', 'kakapu', 'kakapua', 'kakara', 'kakarapaia', 'kakarau', 'kakarera', 'kakata', 'kakate', 'kakatuara', 'kakau', 'kakauoa', 'kakavea', 'kakavoro', 'kakavu', 'kakeoto', 'kaki', 'kaki', 'kakiaki', 'kakiri', 'kakiua', 'kaku', 'kakua', 'kakuaku', 'kakupaa', 'kakuparei', 'kakupato', 'kakupie', 'kakupute', 'kakutauo', 'kakuto', 'kakutuiato', 'kakuva', 'kakuvira', 'kameoro', 'kandora', 'kaokao', 'kaokaoara', 'kaokaoto', 'kapa', 'kapa', 'kapaava', 'kapai', 'kapara', 'kaparu', 'kaparuvira', 'kapatau', 'kapatoro', 'kapatoroto', 'kape', 'kapeaa', 'kapeaa', 'kapeaavira', 'kapekape', 'kapekapevira', 'kapere', 'kaperepie', 'kapi', 'kapiaa', 'kapiaavira', 'kapikapi', 'kapiro', 'kapiroa', 'kapiroko', 'kapisi', 'kapisito', 'kapiu', 'kapiua', 'kapo', 'kapoa', 'kapokao', 'kapokapo', 'kapokapoa', 'kapokapora', 'kapokaporo', 'kapokari', 'kapokarito', 'kapokoa', 'kapoo', 'kapooto', 'kapoovira', 'kapopaa', 'kaporo', 'kaporo', 'kaporopa', 'kaporoto', 'kapoto', 'kapu', 'kapua', 'kapua', 'kapuapato', 'kapuapie', 'kapuasisi', 'kapupie', 'kapupiea', 'kapupiepaa', 'kapuu', 'kapuupie', 'kapuupiepa', 'kara', 'kara', 'karaava', 'karakarao', 'karakaraoa', 'karakaraoto', 'karakaraovira', 'karakaroto', 'karakuku', 'karaova', 'karapi', 'karapivira', 'karara', 'karata', 'karato', 'karavau', 'karavisi', 'karavisito', 'karavuru', 'kare', 'kare', 'karekare', 'karekare', 'karekarererava', 'karekareto', 'kareke', 'karekepie', 'karekova', 'kareo', 'kareovira', 'karepie', 'karepieto', 'karepirie', 'kari', 'karia', 'kariava', 'karikari', 'karirapa', 'karisito', 'karivai', 'karivaito', 'karivara', 'karo', 'karokaropo', 'karopato', 'karopo', 'karot', 'karoto', 'karova', 'karu', 'karuka', 'karukaru', 'karukava', 'karuru', 'karutu', 'karuvira', 'kasi', 'kasi', 'kasi', 'kasiarao', 'kasiava', 'kasikasi', 'kasikasiua', 'kasipie', 'kasipu', 'kasipupie', 'kasipuvira', 'kasirao', 'kasiraopie', 'kasiraovira', 'kasiu', 'kasiura', 'kasivari', 'kasuari', 'kata', 'katai', 'kataitoarei', 'katakatai', 'katakataivira', 'kataraua', 'katarauto', 'katavira', 'katokato', 'katokatoto', 'katokatovira', 'katokoi', 'katopato', 'katoto', 'katuara', 'katuarato', 'katukatu', 'katuta', 'kau', 'kaukau', 'kaukaupie', 'kaukauvira', 'kaukovo', 'kauo', 'kauokauo', 'kaureo', 'kaureoto', 'kausiopa', 'kausiovira', 'kava', 'kavakavau', 'kavatao', 'kavatara', 'kavau', 'kavau', 'kavau asiava', 'kave', 'kavee', 'kaveepaa', 'kaverui', 'kaveruko', 'kavesi', 'kavikavi', 'kavikaviru', 'kavikaviru', 'kaviko', 'kavikoa', 'kaviru', 'kaviru', 'kaviruto', 'kaviruvira', 'kavo', 'kavokavo', 'kavokavoa', 'kavokavoto', 'kavora', 'kavorato', 'kavori', 'kavori', 'kavorou', 'kavovoa', 'kavovovira', 'kavu', 'kavu', 'kavuava', 'kavupie', 'kavura', 'kavurao', 'kavusi', 'kavuvo', 'kea', 'keakea', 'keakeato', 'keari', 'kearito', 'keavira', 'kee', 'keekee', 'keekeepa', 'keekeeri', 'keekeerito', 'keera', 'keeriva', 'keesi', 'keetaa', 'keevuru', 'keevuruvira', 'kegi', 'kei', 'keke', 'keke', 'kekepie', 'kekeputu', 'kekeputuvira', 'kekeraokovira', 'kekesopa', 'kekevoto', 'kekevotovira', 'kekira', 'keo', 'keoka', 'keopa', 'keovira', 'kepa', 'kepa toupato', 'kepetai', 'kepi', 'kepia', 'kepikepi', 'kepiko', 'kepiriko', 'kepiro', 'kepisi', 'kepisiva', 'kepita', 'kepitai', 'kepito', 'kepo', 'kepoi', 'keposi', 'kepoto', 'kera', 'kerakera', 'kerari', 'keraria', 'kerau', 'kerauto', 'keravisi', 'keravisia', 'keravo', 'kereaka', 'kerekoi', 'kerere', 'kerereua', 'kerete', 'kerete', 'kerevaru', 'keri', 'keriaka', 'kerikerisi', 'kerio', 'kerioua', 'keripaara', 'keripato', 'kerisi', 'kerisito', 'kerisivira', 'keritara', 'keriva', 'keroroi', 'kerosiri', 'keru', 'keru', 'kerui', 'keruiato', 'keruito', 'kerupiua', 'keruria', 'keruriato', 'keruriavira', 'kesi', 'kesie', 'kesievira', 'kesikea vaaguru', 'kesio', 'kesioto', 'kesivira', 'keta', 'ketaka', 'ketakaa', 'ketato', 'ketoo', 'ketoo', 'ketoopie', 'ketoopieara', 'ketoroa', 'ketu', 'kevaita', 'kevaita', 'kevaitato', 'kevira', 'kevisi', 'kevoisi', 'kevoisivira', 'kie', 'kii', 'kiikariko', 'kiipie', 'kiire', 'kiire', 'kiiru', 'kiiuto', 'kiki', 'kiki', 'kikipi', 'kikipisi', 'kikira', 'kikiraeko', 'kikisi', 'kikisikae', 'kikisiova', 'kikitausi', 'kikoo', 'kilia', 'kio', 'kipa', 'kipapie', 'kipe', 'kipekipe', 'kipekipea', 'kipeto', 'kipu', 'kipukipu', 'kipupaa', 'kipupato', 'kipuvira', 'kira', 'kirava', 'kire', 'kiri', 'kirikaokao', 'kirioto', 'kiro', 'kirokiro', 'kirokiro', 'kirokiropato', 'kiroko', 'kiru', 'kirukiru', 'kirukirua', 'kirupato', 'kitoiva', 'kitu', 'kitukitu', 'kiu', 'kiupie', 'kiuto', 'kiuve', 'kiuvu', 'koa', 'koai', 'koakoa', 'koakoa', 'koara', 'koarao', 'koaraua', 'koarava', 'koasio', 'koata', 'koatapie', 'koauve', 'koavaato', 'koe', 'koea', 'koekoe', 'koekoeto', 'koepato', 'koeta', 'koetaova', 'koetapie', 'koetava', 'koetavira', 'koeto', 'kogo', 'kogova', 'koi', 'koie', 'koie', 'koike', 'koiketo', 'koikevira', 'koikoi', 'koikoipato', 'koikoipie', 'koikoito', 'koisi', 'koisiva', 'koivira', 'koka', 'kokai', 'kokara', 'kokaraa', 'kokarapato', 'koke', 'kokee', 'kokepato', 'kokepato', 'kokepie', 'kokerao', 'kokeriva', 'kokeu', 'kokeva', 'koki', 'kokio', 'kokipaia', 'kokito', 'kokivira', 'koko', 'koko', 'kokoi', 'kokoisi', 'kokokoru', 'kokoo', 'kokooko', 'kokookoa', 'kokoote', 'kokootu', 'kokopa', 'kokopakou', 'kokopeko', 'kokopekovira', 'kokopeoto', 'kokopuoto', 'kokopuovira', 'kokopuru', 'kokopuvira', 'kokora', 'kokorai', 'kokorato', 'kokori', 'kokorivira', 'kokoro', 'kokoroki', 'kokoroku', 'kokorokupie', 'kokoropato', 'kokorosi', 'kokorovira', 'kokoru', 'kokoruu', 'kokoruu', 'kokosi', 'kokosi', 'kokosiria', 'kokosito', 'kokosiva', 'kokotagoe', 'kokote', 'kokoto', 'kokotu', 'kokotua', 'kokotuo', 'kokovae', 'kokovaeva', 'kokovara', 'kokovara', 'kokovaravira', 'kokovu', 'kokovua', 'kokovua', 'kokovua', 'kokovupaparie', 'kokovurito', 'koku', 'kokuoku', 'kokureko', 'kokuuto', 'kooe', 'kookaa', 'kookai', 'kookoo', 'kookooia', 'kookoopeko', 'kookoopi', 'kooku', 'kookuto', 'kookuvira', 'koopi', 'koopipi', 'koora', 'kooroo', 'koorooto', 'koorooto', 'kooroovira', 'kooru', 'koota', 'kootopa', 'kootutu', 'koou', 'kooupato', 'koova', 'koova', 'koovoto', 'koovotova', 'kopa', 'kopakai', 'kopakava', 'kopakopa', 'kopakovira', 'kopato', 'kopii', 'kopiia', 'kopiipato', 'kopiipie', 'kopiito', 'kopikao', 'kopikopi', 'kopikopiara', 'kopipi', 'kopirovu', 'kopu', 'kopua', 'kopuasi', 'kopuasipie', 'kopuasito', 'kopuasitovira', 'kopuasivira', 'kopuisi', 'kopukopu', 'kopukopua', 'kopupa', 'kopupira', 'kopuro', 'kopuru', 'kopuvioro', 'kopuvira', 'kora', 'korapato', 'korara', 'koraraoko', 'korau', 'koraua', 'korauru', 'korauvira', 'korea', 'korekare', 'korere', 'korereto', 'kori', 'koria', 'koribori', 'korikori', 'korikoripava', 'korita', 'korita', 'koriteira', 'koro', 'kororo', 'kororo', 'kororoisivira', 'kororovi', 'kororovivira', 'kororu', 'kororupie', 'koroto', 'koroviri', 'korovo', 'koru', 'koruko', 'korukoru', 'korukorupato', 'koruo', 'koruoto', 'koruou', 'koruoua', 'koruovira', 'korupie', 'korupievira', 'kosi', 'kosikosi', 'kosikosi', 'kosipa', 'kosipato', 'kosipie', 'kosivago', 'kosiviro', 'koto', 'kotokoto', 'kotokotoara', 'kotopa', 'kotopa', 'kotovira', 'kotu', 'kotukotu', 'kotupiua', 'koturu', 'kou', 'kou', 'koue', 'koue', 'koui', 'koukou', 'koukouo', 'koukouo', 'kova', 'kovaaro', 'kovaeto', 'kovaii', 'kovakovara', 'kovapato', 'kovarato', 'kovarua', 'kovasi', 'kovata', 'kovatavira', 'kovato', 'kovauke', 'kovava', 'kove', 'kove', 'kovea', 'kovekove', 'koveoapa', 'koveva', 'kovia', 'kovikoro', 'kovire', 'kovirea', 'kovo', 'kovo', 'kovo', 'kovoa', 'kovokovo', 'kovokovo', 'kovokovo', 'kovokovoa', 'kovopaa', 'kovopato', 'kovopie', 'kovoruko', 'kovoto', 'kovovo', 'kovuaka', 'kovuaro', 'kovukovu', 'kovukovuto', 'kovukovuvira', 'kovuru', 'kovurui', 'kovuruko', 'kovurukovira', 'kovuruvira', 'kovuto', 'kuara', 'kue', 'kuea', 'kuga', 'kui', 'kuio', 'kuioi', 'kuiopesi', 'kuiopetu', 'kuito', 'kuka', 'kukara', 'kukauviro', 'kukiuki', 'kukiukia', 'kuku', 'kukua', 'kukuaua', 'kukue', 'kukue pute', 'kukuepaa', 'kukuku', 'kukupira', 'kukuriko', 'kukurikoto', 'kukusiri', 'kukutauvu', 'kukutu', 'kukuuku', 'kukuukua', 'kukuukupie', 'kukuuvua', 'kukuvai', 'kukuvaipaa', 'kukuvita', 'kukuvua', 'kuokuo', 'kupare', 'kupareto', 'kupekupe', 'kupekupepa', 'kupero', 'kuperoo', 'kuperovira', 'kupii', 'kupukupu', 'kurae', 'kurasia', 'kurasia', 'kurei', 'kuri', 'kuriato', 'kurikaakaakuto', 'kurikasi', 'kurikasivira', 'kurikoko', 'kurikuri', 'kuripaa', 'kuritava', 'kuroa', 'kuroea', 'kurokuro', 'kurokuroto', 'kuroo', 'kurooro', 'kurovira', 'kuru', 'kurue', 'kurupi', 'kururai', 'kururu', 'kurutu', 'kusi', 'kusii', 'kusike', 'kusito', 'kuu', 'kuu', 'kuukuuvu', 'kuukuuvuto', 'kuuoa', 'kuupie', 'kuurea', 'kuuri', 'kuuva', 'kuuvaki', 'kuuvakito', 'kuuvato', 'kuuvavira', 'kuuvu', 'kuuvuvira', 'kuva', 'kuvaku', 'kuvato', 'kuvau', 'kuvaupie', 'kuvauvira', 'kuvera', 'kuverava', 'kuvere', 'kuverea', 'kuvereto', 'kuverevira', 'kuvoro', 'kuvu', 'kuvuara', 'kuvukuvu', 'kuvukuvua', 'kuvupato', 'kuvuto']"
     ]
    }
   ],
   "source": [
    "print([lexeme.text.lower() for lexeme in lexicon.findall('record/lx')], end = '')"
   ]
  },
  {
   "cell_type": "markdown",
   "metadata": {},
   "source": [
    "Viewing the Toolbox data in XML format:"
   ]
  },
  {
   "cell_type": "code",
   "execution_count": 486,
   "metadata": {},
   "outputs": [
    {
     "name": "stdout",
     "output_type": "stream",
     "text": [
      "<record>\n",
      "    <lx>kaa</lx>\n",
      "    <ps>N</ps>\n",
      "    <pt>MASC</pt>\n",
      "    <cl>isi</cl>\n",
      "    <ge>cooking banana</ge>\n",
      "    <tkp>banana bilong kukim</tkp>\n",
      "    <pt>itoo</pt>\n",
      "    <sf>FLORA</sf>\n",
      "    <dt>12/Aug/2005</dt>\n",
      "    <ex>Taeavi iria kaa isi kovopaueva kaparapasia.</ex>\n",
      "    <xp>Taeavi i bin planim gaden banana bilong kukim tasol long paia.</xp>\n",
      "    <xe>Taeavi planted banana in order to cook it.</xe>\n",
      "  </record>"
     ]
    }
   ],
   "source": [
    "import sys\n",
    "from nltk.util import elementtree_indent\n",
    "from xml.etree.ElementTree import ElementTree\n",
    "elementtree_indent(lexicon)\n",
    "tree = ElementTree(lexicon[3])\n",
    "tree.write(sys.stdout, encoding = 'unicode')"
   ]
  },
  {
   "cell_type": "markdown",
   "metadata": {},
   "source": [
    "#### 4.5   Formatting Entries\n",
    "\n",
    "Generating HTML tables instead of plain text:"
   ]
  },
  {
   "cell_type": "code",
   "execution_count": 487,
   "metadata": {},
   "outputs": [
    {
     "name": "stdout",
     "output_type": "stream",
     "text": [
      "<table>\n",
      " <tr><td>kakae</td><td>???</td><td>small</td></tr>\n",
      " <tr><td>kakae</td><td>CLASS</td><td>child</td></tr>\n",
      " <tr><td>kakaevira</td><td>ADV</td><td>small-like</td></tr>\n",
      " <tr><td>kakapikoa</td><td>???</td><td>small</td></tr>\n",
      " <tr><td>kakapikoto</td><td>N</td><td>newborn baby</td></tr>\n",
      " <tr><td>kakapu</td><td>V</td><td>place in sling for purpose of carrying</td></tr>\n",
      " <tr><td>kakapua</td><td>N</td><td>sling for lifting</td></tr>\n",
      " <tr><td>kakara</td><td>N</td><td>arm band</td></tr>\n",
      " <tr><td>Kakarapaia</td><td>N</td><td>village name</td></tr>\n",
      " <tr><td>kakarau</td><td>N</td><td>frog</td></tr>\n",
      "</table>\n"
     ]
    }
   ],
   "source": [
    "html = \"<table>\\n\"\n",
    "for entry in lexicon[70:80]:\n",
    "    lx = entry.findtext('lx')\n",
    "    ps = entry.findtext('ps')\n",
    "    ge = entry.findtext('ge')\n",
    "    html += \" <tr><td>{}</td><td>{}</td><td>{}</td></tr>\\n\".format(lx, ps, ge)\n",
    "html += \"</table>\"\n",
    "print(html)"
   ]
  },
  {
   "cell_type": "markdown",
   "metadata": {},
   "source": [
    "This is how the above would look in markdown:\n",
    "\n",
    "<table>\n",
    " <tr><td>kakae</td><td>???</td><td>small</td></tr>\n",
    " <tr><td>kakae</td><td>CLASS</td><td>child</td></tr>\n",
    " <tr><td>kakaevira</td><td>ADV</td><td>small-like</td></tr>\n",
    " <tr><td>kakapikoa</td><td>???</td><td>small</td></tr>\n",
    " <tr><td>kakapikoto</td><td>N</td><td>newborn baby</td></tr>\n",
    " <tr><td>kakapu</td><td>V</td><td>place in sling for purpose of carrying</td></tr>\n",
    " <tr><td>kakapua</td><td>N</td><td>sling for lifting</td></tr>\n",
    " <tr><td>kakara</td><td>N</td><td>arm band</td></tr>\n",
    " <tr><td>Kakarapaia</td><td>N</td><td>village name</td></tr>\n",
    " <tr><td>kakarau</td><td>N</td><td>frog</td></tr>\n",
    "</table>"
   ]
  },
  {
   "cell_type": "markdown",
   "metadata": {},
   "source": [
    "### 5   Working with Toolbox Data\n",
    "\n",
    "Average number of fields per entry:"
   ]
  },
  {
   "cell_type": "code",
   "execution_count": 488,
   "metadata": {},
   "outputs": [
    {
     "data": {
      "text/plain": [
       "13.635955056179775"
      ]
     },
     "execution_count": 488,
     "metadata": {},
     "output_type": "execute_result"
    }
   ],
   "source": [
    "from nltk.corpus import toolbox\n",
    "lexicon = toolbox.xml('rotokas.dic')\n",
    "sum(len(entry) for entry in lexicon) / len(lexicon)"
   ]
  },
  {
   "cell_type": "markdown",
   "metadata": {},
   "source": [
    "#### 5.1   Adding a Field to Each Entry\n",
    "\n",
    "Adding a field to show the consonant-vowel sequence:"
   ]
  },
  {
   "cell_type": "code",
   "execution_count": 489,
   "metadata": {},
   "outputs": [],
   "source": [
    "from xml.etree.ElementTree import SubElement\n",
    "\n",
    "def cv(s):\n",
    "    s = s.lower()\n",
    "    s = re.sub(r'[^a-z]',  r'_', s)\n",
    "    s = re.sub(r'[aeiou]', r'V', s)\n",
    "    s = re.sub(r'[^V_]',   r'C', s)\n",
    "    return s\n",
    "\n",
    "def add_cv_field(entry):\n",
    "    for field in entry:\n",
    "        if field.tag == 'lx':\n",
    "            cv_field = SubElement(entry, 'cv')\n",
    "            cv_field.text = cv(field.text)"
   ]
  },
  {
   "cell_type": "code",
   "execution_count": 490,
   "metadata": {},
   "outputs": [
    {
     "name": "stdout",
     "output_type": "stream",
     "text": [
      "\\lx kaeviro\n",
      "\\ps V\n",
      "\\pt A\n",
      "\\ge lift off\n",
      "\\ge take off\n",
      "\\tkp go antap\n",
      "\\sc MOTION\n",
      "\\vx 1\n",
      "\\nt used to describe action of plane\n",
      "\\dt 03/Jun/2005\n",
      "\\ex Pita kaeviroroe kepa kekesia oa vuripierevo kiuvu.\n",
      "\\xp Pita i go antap na lukim haus win i bagarapim.\n",
      "\\xe Peter went to look at the house that the wind destroyed.\n",
      "\\cv CVVCVCV\n",
      "\n"
     ]
    }
   ],
   "source": [
    "lexicon = toolbox.xml('rotokas.dic')\n",
    "add_cv_field(lexicon[53])\n",
    "print(nltk.toolbox.to_sfm_string(lexicon[53]))"
   ]
  },
  {
   "cell_type": "markdown",
   "metadata": {},
   "source": [
    "#### 5.2   Validating a Toolbox Lexicon\n",
    "\n",
    "Using `Counter` to identify frequent field sequences in a Toolbox lexicon:"
   ]
  },
  {
   "cell_type": "code",
   "execution_count": 491,
   "metadata": {},
   "outputs": [
    {
     "data": {
      "text/plain": [
       "[('lx:ps:pt:ge:tkp:dt:ex:xp:xe', 41),\n",
       " ('lx:rt:ps:pt:ge:tkp:dt:ex:xp:xe', 37),\n",
       " ('lx:rt:ps:pt:ge:tkp:dt:ex:xp:xe:ex:xp:xe', 27),\n",
       " ('lx:ps:pt:ge:tkp:nt:dt:ex:xp:xe', 20),\n",
       " ('lx:ps:pt:ge:tkp:nt:dt:ex:xp:xe:ex:xp:xe', 17)]"
      ]
     },
     "execution_count": 491,
     "metadata": {},
     "output_type": "execute_result"
    }
   ],
   "source": [
    "from collections import Counter\n",
    "field_sequences = Counter(':'.join(field.tag for field in entry) \n",
    "                          for entry in lexicon)\n",
    "field_sequences.most_common(5)"
   ]
  },
  {
   "cell_type": "markdown",
   "metadata": {},
   "source": [
    "After inspecting these sequences we could devise a CFG for lexical entries."
   ]
  },
  {
   "cell_type": "code",
   "execution_count": 492,
   "metadata": {},
   "outputs": [],
   "source": [
    "grammar = nltk.CFG.fromstring('''\n",
    "S -> Head PS Glosses Comment Date Sem_Field Examples\n",
    "Head -> Lexeme Root\n",
    "Lexeme -> \"lx\"\n",
    "Root -> \"rt\" |\n",
    "PS -> \"ps\"\n",
    "Glosses -> Gloss Glosses |\n",
    "Gloss -> \"ge\" | \"tkp\" | \"eng\"\n",
    "Date -> \"dt\"\n",
    "Sem_Field -> \"sf\"\n",
    "Examples -> Example Ex_Pidgin Ex_English Examples |\n",
    "Example -> \"ex\"\n",
    "Ex_Pidgin -> \"xp\"\n",
    "Ex_English -> \"xe\"\n",
    "Comment -> \"cmt\" | \"nt\" |\n",
    "''')\n",
    "\n",
    "def validate_lexicon(grammar, lexicon, ignored_tags):\n",
    "    rd_parser = nltk.RecursiveDescentParser(grammar)\n",
    "    for entry in lexicon:\n",
    "        marker_list = [field.tag for field in entry if field.tag \n",
    "                       not in ignored_tags]\n",
    "        if list(rd_parser.parse(marker_list)):\n",
    "            print(\"+\", \":\".join(marker_list))\n",
    "        else:\n",
    "            print(\"-\", \":\".join(marker_list))"
   ]
  },
  {
   "cell_type": "code",
   "execution_count": 493,
   "metadata": {},
   "outputs": [
    {
     "name": "stdout",
     "output_type": "stream",
     "text": [
      "- lx:ps:ge:tkp:sf:nt:dt:ex:xp:xe:ex:xp:xe:ex:xp:xe\n",
      "- lx:rt:ps:ge:tkp:nt:dt:ex:xp:xe:ex:xp:xe\n",
      "- lx:ps:ge:tkp:nt:dt:ex:xp:xe:ex:xp:xe\n",
      "- lx:ps:ge:tkp:nt:sf:dt\n",
      "- lx:ps:ge:tkp:dt:cmt:ex:xp:xe:ex:xp:xe\n",
      "- lx:ps:ge:ge:ge:tkp:cmt:dt:ex:xp:xe\n",
      "- lx:rt:ps:ge:ge:tkp:dt\n",
      "- lx:rt:ps:ge:eng:eng:eng:ge:tkp:tkp:dt:cmt:ex:xp:xe:ex:xp:xe:ex:xp:xe:ex:xp:xe:ex:xp:xe\n",
      "- lx:rt:ps:ge:tkp:dt:ex:xp:xe\n",
      "- lx:ps:ge:ge:tkp:dt:ex:xp:xe:ex:xp:xe\n"
     ]
    }
   ],
   "source": [
    "lexicon = toolbox.xml('rotokas.dic')[10:20]\n",
    "ignored_tags = ['arg', 'dcsv', 'pt', 'vx']\n",
    "validate_lexicon(grammar, lexicon, ignored_tags)"
   ]
  },
  {
   "cell_type": "markdown",
   "metadata": {},
   "source": [
    "Another approach is to use a chunk parser.  These are much more effective at identifying partial structures and can report the partial structures that have been identified.\n",
    "\n",
    "There is an example of this given in the book; but this code no longer works because of a character encoding problem with Toolbox.  The creators of NLTK are aware of this issue, (cf. [here](https://github.com/nltk/nltk/issues/717 \"Toolbox character encoding problem\")), but it appears that this is being left unresolved."
   ]
  },
  {
   "cell_type": "markdown",
   "metadata": {},
   "source": [
    "### 6   Describing Language Resources using OLAC Metadata\n",
    "\n",
    "#### 6.1   What is Metadata?\n",
    "\n",
    "*__No notes__*\n",
    "\n",
    "#### 6.2   OLAC: Open Language Archives Community\n",
    "\n",
    "OLAC home is [here](http://www.language-archives.org/ \"OLAC home\"), but the website has not been modified since 2011, so the current status of the community is somewhat up in the air...\n",
    "\n",
    "OLAC Metadata is a standard for describing language resources.  It extends the DC Metadata Set.  Here's an example:\n",
    "\n",
    "```\n",
    "<?xml version=\"1.0\" encoding=\"UTF-8\"?>\n",
    "<olac:olac xmlns:olac=\"http://www.language-archives.org/OLAC/1.1/\"\n",
    "           xmlns=\"http://purl.org/dc/elements/1.1/\"\n",
    "           xmlns:dcterms=\"http://purl.org/dc/terms/\"\n",
    "           xmlns:xsi=\"http://www.w3.org/2001/XMLSchema-instance\"\n",
    "           xsi:schemaLocation=\"http://www.language-archives.org/OLAC/1.1/\n",
    "                http://www.language-archives.org/OLAC/1.1/olac.xsd\">\n",
    "  <title>A grammar of Kayardild. With comparative notes on Tangkic.</title>\n",
    "  <creator>Evans, Nicholas D.</creator>\n",
    "  <subject>Kayardild grammar</subject>\n",
    "  <subject xsi:type=\"olac:language\" olac:code=\"gyd\">Kayardild</subject>\n",
    "  <language xsi:type=\"olac:language\" olac:code=\"en\">English</language>\n",
    "  <description>Kayardild Grammar (ISBN 3110127954)</description>\n",
    "  <publisher>Berlin - Mouton de Gruyter</publisher>\n",
    "  <contributor xsi:type=\"olac:role\" olac:code=\"author\">Nicholas Evans</contributor>\n",
    "  <format>hardcover, 837 pages</format>\n",
    "  <relation>related to ISBN 0646119966</relation>\n",
    "  <coverage>Australia</coverage>\n",
    "  <type xsi:type=\"olac:linguistic-type\" olac:code=\"language_description\"/>\n",
    "  <type xsi:type=\"dcterms:DCMIType\">Text</type>\n",
    "</olac:olac>\n",
    "\n",
    "```\n",
    "\n",
    "#### 6.3   Disseminating Language Resources\n",
    "\n",
    "The Linguistic Data Consortium ([website](https://www.ldc.upenn.edu/ \"LDC\")) hosts the __NLTK Data Repository__, where members can upload corpora and saved models, which can be accessed using NLTK's downloader tool.\n",
    "\n",
    "### 7 Summary\n",
    "\n",
    "*__No notes__*\n",
    "\n",
    "### 8 Further Reading\n",
    "\n",
    "*__No notes__*\n",
    "\n",
    "### 9 Exercises \n",
    "\n",
    "##### 1. \n",
    "\n",
    "◑ In [5.1](https://www.nltk.org/book/ch11.html#code-add-cv-field) the new field appeared at the bottom of the entry. Modify this program so that it inserts the new subelement right after the `lx` field. (Hint: create the new cv field using `Element('cv')`, assign a text value to it, then use the `insert()` method of the parent element.)\n",
    "\n",
    "*This assignment feels somewhat more difficult than the first exercise in a chapter should.  We never covered `Element()`, so I had to do a little outside research to be able to finish this exercise.  Another issue is that when we  use `insert()`, we have to specify exactly where the element is to be inserted, and for that we need to know the position of the `lx` field.  If it's always in the first position, the problem is trivial; but I didn't think we could make that assumption, so I looped through the entry to find the location of `lx` so `cv` could be inserted at the appropriate location.*"
   ]
  },
  {
   "cell_type": "code",
   "execution_count": 494,
   "metadata": {},
   "outputs": [],
   "source": [
    "from xml.etree.ElementTree import Element\n",
    "\n",
    "def cv(s):\n",
    "    s = s.lower()\n",
    "    s = re.sub(r'[^a-z]',  r'_', s)\n",
    "    s = re.sub(r'[aeiou]', r'V', s)\n",
    "    s = re.sub(r'[^V_]',   r'C', s)\n",
    "    return s\n",
    "\n",
    "def add_cv_field(entry):\n",
    "    for i in range(len(entry)):\n",
    "        if entry[i].tag == 'lx':\n",
    "            cv_field = Element('cv')\n",
    "            cv_field.text = cv(entry[i].text)\n",
    "            entry.insert(i + 1, cv_field)\n",
    "            "
   ]
  },
  {
   "cell_type": "code",
   "execution_count": 495,
   "metadata": {},
   "outputs": [
    {
     "name": "stdout",
     "output_type": "stream",
     "text": [
      "\\lx kaeviro\n",
      "\\cv CVVCVCV\n",
      "\\ps V\n",
      "\\pt A\n",
      "\\ge lift off\n",
      "\\ge take off\n",
      "\\tkp go antap\n",
      "\\sc MOTION\n",
      "\\vx 1\n",
      "\\nt used to describe action of plane\n",
      "\\dt 03/Jun/2005\n",
      "\\ex Pita kaeviroroe kepa kekesia oa vuripierevo kiuvu.\n",
      "\\xp Pita i go antap na lukim haus win i bagarapim.\n",
      "\\xe Peter went to look at the house that the wind destroyed.\n",
      "\n"
     ]
    }
   ],
   "source": [
    "lexicon = toolbox.xml('rotokas.dic')\n",
    "add_cv_field(lexicon[53])\n",
    "print(nltk.toolbox.to_sfm_string(lexicon[53]))"
   ]
  },
  {
   "cell_type": "markdown",
   "metadata": {},
   "source": [
    "*I ran the code again with a few random entries to make sure everything ran correctly:*"
   ]
  },
  {
   "cell_type": "code",
   "execution_count": 496,
   "metadata": {},
   "outputs": [
    {
     "name": "stdout",
     "output_type": "stream",
     "text": [
      "Entry 843\n",
      "\\lx kuroo\n",
      "\\cv CVCVV\n",
      "\\ps N\n",
      "\\pt ???\n",
      "\\ge child's penis\n",
      "\\tkp kok bilong pikinini\n",
      "\\nt acceptable in mixed company\n",
      "\\cmt Check spelling: kuro or kuroo? Sentence fragment.\n",
      "\\dt 04/Dec/2004\n",
      "\\ex Kakaetoa iava kuro.\n",
      "\\xp Bol bilong liklik boi.\n",
      "\\xe ???\n",
      "\n"
     ]
    }
   ],
   "source": [
    "import random\n",
    "\n",
    "r = random.randint(1, len(lexicon))\n",
    "print(\"Entry {}\".format(r))\n",
    "\n",
    "add_cv_field(lexicon[r])\n",
    "print(nltk.toolbox.to_sfm_string(lexicon[r]))"
   ]
  },
  {
   "cell_type": "code",
   "execution_count": 497,
   "metadata": {},
   "outputs": [
    {
     "name": "stdout",
     "output_type": "stream",
     "text": [
      "Entry 58\n",
      "\\lx Kaio\n",
      "\\cv CVVV\n",
      "\\ps N\n",
      "\\pt PN\n",
      "\\ge name\n",
      "\\eng name\n",
      "\\ig yes\n",
      "\\dt 17/May/2004\n",
      "\n"
     ]
    }
   ],
   "source": [
    "r = random.randint(1, len(lexicon))\n",
    "print(\"Entry {}\".format(r))\n",
    "\n",
    "add_cv_field(lexicon[r])\n",
    "print(nltk.toolbox.to_sfm_string(lexicon[r]))"
   ]
  },
  {
   "cell_type": "code",
   "execution_count": 498,
   "metadata": {},
   "outputs": [
    {
     "name": "stdout",
     "output_type": "stream",
     "text": [
      "Entry 145\n",
      "\\lx kapokapo\n",
      "\\cv CVCVCVCV\n",
      "\\rt kapo\n",
      "\\ps V\n",
      "\\pt B\n",
      "\\rdp full\n",
      "\\ge fasten.cover.strips\n",
      "\\tkp ???\n",
      "\\vx 2\n",
      "\\arg O\n",
      "\\dt 30/Oct/2005\n",
      "\\ex Takei kapokapoa ari kepa opesiei.\n",
      "\\xp Mi nailim wol bikos haus i pinis.\n",
      "\\xe ???\n",
      "\\ex Kepa iava takei kapokapo.\n",
      "\\xp Yu putim sitirip long olgeta wol bilong haus.\n",
      "\\xe ???\n",
      "\\ex Kepa iava takei kapokapoa teapi koveovere rara kiuvu urioro oira peosia rakoveo rasitoa iare.\n",
      "\\xp Wol bilong haus mi papas wantaim ol hap diwai nogut i pundaun sapos win i kam bai pusim i go daon long graun.\n",
      "\\xe ???\n",
      "\n"
     ]
    }
   ],
   "source": [
    "r = random.randint(1, len(lexicon))\n",
    "print(\"Entry {}\".format(r))\n",
    "\n",
    "add_cv_field(lexicon[r])\n",
    "print(nltk.toolbox.to_sfm_string(lexicon[r]))"
   ]
  },
  {
   "cell_type": "markdown",
   "metadata": {},
   "source": [
    "##### 2.\n",
    "\n",
    "◑ Write a function that deletes a specified field from a lexical entry. (We could use this to sanitize our lexical data before giving it to others, e.g. by removing fields containing irrelevant or uncertain content.)\n",
    "\n",
    "*I'm finding this question really vague: It doesn't specify what format the lexical entry would be in, and naturally the format of the entry would affect how we compose the function. For this exercise, I'm assuming the lexical entry is an xml Element:*"
   ]
  },
  {
   "cell_type": "code",
   "execution_count": 499,
   "metadata": {},
   "outputs": [],
   "source": [
    "from xml.etree.ElementTree import Element\n",
    "\n",
    "def remove_field(entry, tbr):\n",
    "    \"\"\"\n",
    "    Removes a field from a lexical entry.\n",
    "    \n",
    "    Arguments:\n",
    "    \n",
    "    entry: xml Element\n",
    "    tbr:   field to be removed\n",
    "    \"\"\"\n",
    "    \n",
    "    assert isinstance(entry, Element), 'Entry must be an xml Element'\n",
    "    \n",
    "    for field in entry:\n",
    "        if field.tag == tbr:\n",
    "            entry.remove(field)"
   ]
  },
  {
   "cell_type": "markdown",
   "metadata": {},
   "source": [
    "*I know from an earlier exercise that entry 203 has the field `arg`, so I'll try to remove that:*"
   ]
  },
  {
   "cell_type": "code",
   "execution_count": 500,
   "metadata": {},
   "outputs": [
    {
     "name": "stdout",
     "output_type": "stream",
     "text": [
      "\\lx karepie\n",
      "\\rt kare\n",
      "\\ps V\n",
      "\\pt B\n",
      "\\ge return\n",
      "\\tkp bekim\n",
      "\\eng return\n",
      "\\eng pay back\n",
      "\\eng send back\n",
      "\\vx 2\n",
      "\\dt 08/Jun/2005\n",
      "\\ex Vii vaaro vukua oa vii iare karepieavere.\n",
      "\\xp ???\n",
      "\\xe I will return your book to you.\n",
      "\\ex Oire vii varo vukua karepieavere.\n",
      "\\xp Em i orait, bai mi bekim buk bilong yu.\n",
      "\\xe Okay, I'll give you your book back.\n",
      "\n"
     ]
    }
   ],
   "source": [
    "remove_field(lexicon[203], 'arg')\n",
    "\n",
    "print(nltk.toolbox.to_sfm_string(lexicon[203]))"
   ]
  },
  {
   "cell_type": "markdown",
   "metadata": {},
   "source": [
    "##### 3.\n",
    "\n",
    "◑ Write a program that scans an HTML dictionary file to find entries having an illegal part-of-speech field, and reports the *headword* for each entry.\n",
    "\n",
    "*This exercise is also fraught with issues.  The components of HTML lexical entries (e.g., __headwords__, __POS__, etc...) are almost never tagged the same way across lexicons, so we have to include arguments so that the function can identify the tags for heads and parts of speech.*"
   ]
  },
  {
   "cell_type": "code",
   "execution_count": 501,
   "metadata": {},
   "outputs": [],
   "source": [
    "import re\n",
    "\n",
    "def find_illegal_pos(entry, head_tag, pos_tag, illegal_pos):\n",
    "    \"\"\"\n",
    "    Scans an HTML dictionary file and returns headword if an\n",
    "    illegal part-of-speech field is present.\n",
    "    \n",
    "    Arguments:\n",
    "    \n",
    "    entry:       entry in an HTML dictionary file\n",
    "    head_tag:    regex tag to identify headwords\n",
    "    pos_tag:     regex tag to identify POS fields\n",
    "    illegal_pos: Illegal POS fields. May be a list or string.\n",
    "    \"\"\"\n",
    "    \n",
    "    pos = re.findall(re.compile(pos_tag), entry)\n",
    "    \n",
    "    # When we have several illegal POS:\n",
    "    if isinstance(illegal_pos, list):\n",
    "        for p in pos:\n",
    "            if p in illegal_pos:\n",
    "                return re.findall(re.compile(head_tag), entry)\n",
    "    \n",
    "    # When we have no illegal POS:\n",
    "    elif isinstance(illegal_pos, str):\n",
    "        for p in pos:\n",
    "            if p == illegal_pos:\n",
    "                return re.findall(re.compile(head_tag), entry) \n",
    "    "
   ]
  },
  {
   "cell_type": "code",
   "execution_count": 502,
   "metadata": {},
   "outputs": [],
   "source": [
    "test = \"\"\"\n",
    "<p class=MsoNormal>sleep\n",
    "  <span style='mso-spacerun:yes'> </span>\n",
    "  [<span class=SpellE>sli:p</span>]\n",
    "  <span style='mso-spacerun:yes'> </span>\n",
    "  <b><span style='font-size:11.0pt'>v.i.</span></b>\n",
    "  <span style='mso-spacerun:yes'> </span>\n",
    "  <i>a condition of body and mind ...<o:p></o:p></i>\n",
    "</p>\n",
    "\"\"\""
   ]
  },
  {
   "cell_type": "code",
   "execution_count": 503,
   "metadata": {},
   "outputs": [
    {
     "data": {
      "text/plain": [
       "['sleep']"
      ]
     },
     "execution_count": 503,
     "metadata": {},
     "output_type": "execute_result"
    }
   ],
   "source": [
    "find_illegal_pos(test, r\"<p [^>]*>(.*)\\n.*<\", \n",
    "                 r\"style='font-size:11.0pt'>([a-z.]+)<\", ['v.i.'])"
   ]
  },
  {
   "cell_type": "markdown",
   "metadata": {},
   "source": [
    "##### 4. \n",
    "\n",
    "◑ Write a program to find any parts of speech (`ps` field) that occurred less than ten times. Perhaps these are typing mistakes?\n",
    "\n",
    "*It's not abundantly clear which lexicon we're supposed to be using; but considering `ps` was used for parts-of-speech in the Rotokas dictionary, it seems likely that this was the lexicon that we're supposed to be working on.*"
   ]
  },
  {
   "cell_type": "code",
   "execution_count": 504,
   "metadata": {},
   "outputs": [
    {
     "data": {
      "text/plain": [
       "[('CLASS', 6), ('FFP', 1), ('NUM', 1), ('POST', 1), ('EXCL', 1)]"
      ]
     },
     "execution_count": 504,
     "metadata": {},
     "output_type": "execute_result"
    }
   ],
   "source": [
    "from collections import Counter\n",
    "\n",
    "POSs = [field.text for entry in lexicon for field in entry if field.tag == 'ps']\n",
    "POS_freq = Counter(POSs)\n",
    "\n",
    "[(k, v) for k, v in POS_freq.items() if v < 10]"
   ]
  },
  {
   "cell_type": "markdown",
   "metadata": {},
   "source": [
    "*I'm not sure what some of these POS's stand for (e.g., `FFP`), but my hunch is that they're not typographical errors.*\n",
    "\n",
    "##### 5. \n",
    "\n",
    "◑ We saw a method for discovering cases of whole-word reduplication. Write a function to find words that may contain partial reduplication. Use the `re.search()` method, and the following regular expression: `(..+)\\1`"
   ]
  },
  {
   "cell_type": "code",
   "execution_count": 505,
   "metadata": {},
   "outputs": [],
   "source": [
    "def find_partial_redup(word):\n",
    "    \"\"\"\n",
    "    Finds partial reduplication in word\n",
    "    \"\"\"\n",
    "    return re.search(r'(..+)\\1', word)[0]"
   ]
  },
  {
   "cell_type": "code",
   "execution_count": 506,
   "metadata": {},
   "outputs": [
    {
     "data": {
      "text/plain": [
       "'redred'"
      ]
     },
     "execution_count": 506,
     "metadata": {},
     "output_type": "execute_result"
    }
   ],
   "source": [
    "find_partial_redup('redredwine')"
   ]
  },
  {
   "cell_type": "code",
   "execution_count": 507,
   "metadata": {},
   "outputs": [
    {
     "data": {
      "text/plain": [
       "'behybehy'"
      ]
     },
     "execution_count": 507,
     "metadata": {},
     "output_type": "execute_result"
    }
   ],
   "source": [
    "find_partial_redup('behybehyby')"
   ]
  },
  {
   "cell_type": "markdown",
   "metadata": {},
   "source": [
    "##### 6.\n",
    "\n",
    "◑ We saw a method for adding a cv field. There is an interesting issue with keeping this up-to-date when someone modifies the content of the lx field on which it is based. Write a version of this program to add a cv field, replacing any existing cv field."
   ]
  },
  {
   "cell_type": "markdown",
   "metadata": {},
   "source": [
    "*Examining an entry in the lexicon:*"
   ]
  },
  {
   "cell_type": "code",
   "execution_count": 508,
   "metadata": {},
   "outputs": [
    {
     "name": "stdout",
     "output_type": "stream",
     "text": [
      "\\lx karepie\n",
      "\\cv CVCVCVV\n",
      "\\rt kare\n",
      "\\ps V\n",
      "\\pt B\n",
      "\\ge return\n",
      "\\tkp bekim\n",
      "\\eng return\n",
      "\\eng pay back\n",
      "\\eng send back\n",
      "\\vx 2\n",
      "\\dt 08/Jun/2005\n",
      "\\ex Vii vaaro vukua oa vii iare karepieavere.\n",
      "\\xp ???\n",
      "\\xe I will return your book to you.\n",
      "\\ex Oire vii varo vukua karepieavere.\n",
      "\\xp Em i orait, bai mi bekim buk bilong yu.\n",
      "\\xe Okay, I'll give you your book back.\n",
      "\n"
     ]
    }
   ],
   "source": [
    "add_cv_field(lexicon[203])\n",
    "print(nltk.toolbox.to_sfm_string(lexicon[203]))"
   ]
  },
  {
   "cell_type": "markdown",
   "metadata": {},
   "source": [
    "*Updating the `lx` field.  Notice that the `cv` has not been updated:*"
   ]
  },
  {
   "cell_type": "code",
   "execution_count": 509,
   "metadata": {},
   "outputs": [],
   "source": [
    "lexicon[203].findall('lx')[0].text = 'karepieavere'"
   ]
  },
  {
   "cell_type": "code",
   "execution_count": 510,
   "metadata": {},
   "outputs": [
    {
     "name": "stdout",
     "output_type": "stream",
     "text": [
      "\\lx karepieavere\n",
      "\\cv CVCVCVV\n",
      "\\rt kare\n",
      "\\ps V\n",
      "\\pt B\n",
      "\\ge return\n",
      "\\tkp bekim\n",
      "\\eng return\n",
      "\\eng pay back\n",
      "\\eng send back\n",
      "\\vx 2\n",
      "\\dt 08/Jun/2005\n",
      "\\ex Vii vaaro vukua oa vii iare karepieavere.\n",
      "\\xp ???\n",
      "\\xe I will return your book to you.\n",
      "\\ex Oire vii varo vukua karepieavere.\n",
      "\\xp Em i orait, bai mi bekim buk bilong yu.\n",
      "\\xe Okay, I'll give you your book back.\n",
      "\n"
     ]
    }
   ],
   "source": [
    "print(nltk.toolbox.to_sfm_string(lexicon[203]))"
   ]
  },
  {
   "cell_type": "code",
   "execution_count": 511,
   "metadata": {},
   "outputs": [],
   "source": [
    "def cv(s):\n",
    "    s = s.lower()\n",
    "    s = re.sub(r'[^a-z]',  r'_', s)\n",
    "    s = re.sub(r'[aeiou]', r'V', s)\n",
    "    s = re.sub(r'[^V_]',   r'C', s)\n",
    "    return s\n",
    "\n",
    "def update_cv_field(entry):\n",
    "    for field in entry:\n",
    "        if field.tag == 'lx':\n",
    "            new_cv_field = cv(field.text)\n",
    "            entry.findall('cv')[0].text = new_cv_field"
   ]
  },
  {
   "cell_type": "markdown",
   "metadata": {},
   "source": [
    "*Updating and examining the `cv` field:*"
   ]
  },
  {
   "cell_type": "code",
   "execution_count": 512,
   "metadata": {},
   "outputs": [],
   "source": [
    "update_cv_field(lexicon[203])"
   ]
  },
  {
   "cell_type": "code",
   "execution_count": 513,
   "metadata": {},
   "outputs": [
    {
     "name": "stdout",
     "output_type": "stream",
     "text": [
      "\\lx karepieavere\n",
      "\\cv CVCVCVVVCVCV\n",
      "\\rt kare\n",
      "\\ps V\n",
      "\\pt B\n",
      "\\ge return\n",
      "\\tkp bekim\n",
      "\\eng return\n",
      "\\eng pay back\n",
      "\\eng send back\n",
      "\\vx 2\n",
      "\\dt 08/Jun/2005\n",
      "\\ex Vii vaaro vukua oa vii iare karepieavere.\n",
      "\\xp ???\n",
      "\\xe I will return your book to you.\n",
      "\\ex Oire vii varo vukua karepieavere.\n",
      "\\xp Em i orait, bai mi bekim buk bilong yu.\n",
      "\\xe Okay, I'll give you your book back.\n",
      "\n"
     ]
    }
   ],
   "source": [
    "print(nltk.toolbox.to_sfm_string(lexicon[203]))"
   ]
  },
  {
   "cell_type": "markdown",
   "metadata": {},
   "source": [
    "##### 7.\n",
    "\n",
    "◑ Write a function to add a new field `syl` which gives a count of the number of syllables in the word.\n",
    "\n",
    "*This is far from a trivial task, and as far as I am aware there is no algorithm that can do this for all languages (a very cursory internet search has done little to convince me otherwise).  English is especially bad (with silent '-e' being the most conspicuous of many examples), and the most reliable systems use a lookup table instead of an algorithm.*\n",
    "\n",
    "*Although it's not stated, I'm just going to assume that this function should be designed to be used with the Rotokas language.  I did do another cursory search to see if I could find some guidelines regarding syllabification in Rotokas; but finding none, I decided just to use this simple heurisitc: for each word, count the number of vowels that are not immediately preceded by another vowel, with exceptions being made for three vowels in a row.  I doubt that this is 100% accurate; but lacking a thorough explanation of Rotokasian syllabification, I think it's the best I can do.  For the sake of convenience, I'm reusing the function `cv` that has been used several times in this chapter.*"
   ]
  },
  {
   "cell_type": "code",
   "execution_count": 514,
   "metadata": {},
   "outputs": [],
   "source": [
    "def count_syllables(word):\n",
    "    CV = cv(word)\n",
    "    syl = 0\n",
    "\n",
    "    # If the initial letter is a vowel\n",
    "    if CV[0] == 'V':\n",
    "        syl += 1\n",
    "\n",
    "    # Count the number of vowels not preceded by a vowel\n",
    "    flag = False\n",
    "    for i in range(1, len(CV)):\n",
    "        if CV[i] == 'V' and CV[i - 1] != 'V':\n",
    "            syl += 1\n",
    "            flag = False\n",
    "        # make exception for three vowels in a row\n",
    "        elif CV[i] == 'V' and flag == True:\n",
    "            syl += 1\n",
    "            flag = False\n",
    "        elif CV[i] == 'V' and CV[i - 1] == 'V':\n",
    "            flag = True\n",
    "\n",
    "    return str(syl)"
   ]
  },
  {
   "cell_type": "code",
   "execution_count": 515,
   "metadata": {},
   "outputs": [
    {
     "data": {
      "text/plain": [
       "'5'"
      ]
     },
     "execution_count": 515,
     "metadata": {},
     "output_type": "execute_result"
    }
   ],
   "source": [
    "count_syllables('rugorugoopau')"
   ]
  },
  {
   "cell_type": "code",
   "execution_count": 516,
   "metadata": {},
   "outputs": [
    {
     "data": {
      "text/plain": [
       "'6'"
      ]
     },
     "execution_count": 516,
     "metadata": {},
     "output_type": "execute_result"
    }
   ],
   "source": [
    "count_syllables('karepieavere')"
   ]
  },
  {
   "cell_type": "code",
   "execution_count": 517,
   "metadata": {},
   "outputs": [],
   "source": [
    "def add_syl_field(entry):\n",
    "    for field in entry:\n",
    "        if field.tag == 'lx':\n",
    "            syl_field = SubElement(entry, 'syl')\n",
    "            syl_field.text = count_syllables(field.text)"
   ]
  },
  {
   "cell_type": "code",
   "execution_count": 518,
   "metadata": {},
   "outputs": [],
   "source": [
    "add_syl_field(lexicon[203])"
   ]
  },
  {
   "cell_type": "code",
   "execution_count": 519,
   "metadata": {},
   "outputs": [
    {
     "name": "stdout",
     "output_type": "stream",
     "text": [
      "\\lx karepieavere\n",
      "\\cv CVCVCVVVCVCV\n",
      "\\rt kare\n",
      "\\ps V\n",
      "\\pt B\n",
      "\\ge return\n",
      "\\tkp bekim\n",
      "\\eng return\n",
      "\\eng pay back\n",
      "\\eng send back\n",
      "\\vx 2\n",
      "\\dt 08/Jun/2005\n",
      "\\ex Vii vaaro vukua oa vii iare karepieavere.\n",
      "\\xp ???\n",
      "\\xe I will return your book to you.\n",
      "\\ex Oire vii varo vukua karepieavere.\n",
      "\\xp Em i orait, bai mi bekim buk bilong yu.\n",
      "\\xe Okay, I'll give you your book back.\n",
      "\\syl 6\n",
      "\n"
     ]
    }
   ],
   "source": [
    "print(nltk.toolbox.to_sfm_string(lexicon[203]))"
   ]
  },
  {
   "cell_type": "markdown",
   "metadata": {},
   "source": [
    "##### 8.\n",
    "\n",
    "◑ Write a function which displays the complete entry for a lexeme. When the lexeme is incorrectly spelled it should display the entry for the most similarly spelled lexeme."
   ]
  },
  {
   "cell_type": "code",
   "execution_count": 520,
   "metadata": {},
   "outputs": [],
   "source": [
    "from xml.etree.ElementTree import Element\n",
    " \n",
    "def display_complete_entry(lexicon, lexeme, tag = 'lx'):\n",
    "    \"\"\"\n",
    "    Displays complete entry for a lexeme.  If lexeme is \n",
    "    incorrectly spelled, the entry for the most similary \n",
    "    spelled is displayed.\n",
    "    \n",
    "    Arguments:\n",
    "    \n",
    "    lexicon: Must be an xml Element. Lexem\n",
    "    lexeme:  String.  If not found, most similarly \n",
    "             spelled lexeme is used.\n",
    "    tag:     Lexeme tag in the lexicon.  Default is 'lx'.\n",
    "    \"\"\"\n",
    "    \n",
    "    assert isinstance(lexicon, Element), 'Entry must be an xml Element'\n",
    "    \n",
    "    for entry in lexicon:\n",
    "        for field in entry:\n",
    "            if field.tag == tag:\n",
    "                if field.text == lexeme:\n",
    "                    print(nltk.toolbox.to_sfm_string(entry))\n",
    "                    return\n",
    "                \n",
    "    \n",
    "    lexs = [field.text for entry in lexicon for field in entry \n",
    "               if field.tag == tag]\n",
    "    \n",
    "    new_lex = rank(lexeme, lexs)[0]\n",
    "    eight_trial(lexicon, new_lex)"
   ]
  },
  {
   "cell_type": "code",
   "execution_count": 521,
   "metadata": {},
   "outputs": [
    {
     "name": "stdout",
     "output_type": "stream",
     "text": [
      "\\lx kaeviro\n",
      "\\cv CVVCVCV\n",
      "\\ps V\n",
      "\\pt A\n",
      "\\ge lift off\n",
      "\\ge take off\n",
      "\\tkp go antap\n",
      "\\sc MOTION\n",
      "\\vx 1\n",
      "\\nt used to describe action of plane\n",
      "\\dt 03/Jun/2005\n",
      "\\ex Pita kaeviroroe kepa kekesia oa vuripierevo kiuvu.\n",
      "\\xp Pita i go antap na lukim haus win i bagarapim.\n",
      "\\xe Peter went to look at the house that the wind destroyed.\n",
      "\n"
     ]
    }
   ],
   "source": [
    "display_complete_entry(lexicon, 'kaeviro')"
   ]
  },
  {
   "cell_type": "code",
   "execution_count": 522,
   "metadata": {},
   "outputs": [],
   "source": [
    "# display_complete_entry(lexicon, 'kappa')"
   ]
  },
  {
   "cell_type": "markdown",
   "metadata": {},
   "source": [
    "##### 9.\n",
    "\n",
    "◑ Write a function that takes a lexicon and finds which pairs of consecutive fields are most frequent (e.g. `ps` is often followed by `pt`). (This might help us to discover some of the structure of a lexical entry.)"
   ]
  },
  {
   "cell_type": "code",
   "execution_count": 523,
   "metadata": {},
   "outputs": [],
   "source": [
    "from xml.etree.ElementTree import Element\n",
    "from collections import Counter\n",
    "\n",
    "def find_frequent_consecutive_fields(lexicon, n = 15):\n",
    "    \"\"\"\n",
    "    Find most frequent consecutive fields in a lexicon.\n",
    "    \n",
    "    Arguments:\n",
    "    \n",
    "    lexicon: Lexicon. Must be an xml Element.\n",
    "    n:       Number of most frequent pairs to be returned.\n",
    "             Default is 15.\n",
    "    \"\"\"\n",
    "    assert isinstance(lexicon, Element), 'lexicon must be an xml Element'\n",
    "    \n",
    "    tags = []\n",
    "    for entry in lexicon:\n",
    "        for i in range(len(entry) - 1):\n",
    "                tags.append((entry[i].tag, entry[i + 1].tag))\n",
    "                \n",
    "    return Counter(tags).most_common(n)\n"
   ]
  },
  {
   "cell_type": "code",
   "execution_count": 524,
   "metadata": {},
   "outputs": [
    {
     "data": {
      "text/plain": [
       "[(('ex', 'xp'), 1532),\n",
       " (('xp', 'xe'), 1526),\n",
       " (('ps', 'pt'), 835),\n",
       " (('ge', 'tkp'), 824),\n",
       " (('pt', 'ge'), 766),\n",
       " (('dt', 'ex'), 758),\n",
       " (('xe', 'ex'), 708),\n",
       " (('lx', 'ps'), 517),\n",
       " (('rt', 'ps'), 356),\n",
       " (('tkp', 'dt'), 327),\n",
       " (('lx', 'rt'), 311),\n",
       " (('ge', 'ge'), 287),\n",
       " (('eng', 'eng'), 143),\n",
       " (('cmt', 'dt'), 143),\n",
       " (('tkp', 'nt'), 130)]"
      ]
     },
     "execution_count": 524,
     "metadata": {},
     "output_type": "execute_result"
    }
   ],
   "source": [
    "find_frequent_consecutive_fields(lexicon)"
   ]
  },
  {
   "cell_type": "markdown",
   "metadata": {},
   "source": [
    "##### 10. \n",
    "\n",
    "◑ Create a spreadsheet using office software, containing one lexical entry per row, consisting of a headword, a part of speech, and a gloss. Save the spreadsheet in CSV format. Write Python code to read the CSV file and print it in Toolbox format, using `lx` for the headword, `ps` for the part of speech, and `gl` for the gloss.\n",
    "\n",
    "*An example of Toolbox format from [here](https://www.nltk.org/_modules/nltk/toolbox.html \"toolbox\").*\n",
    "```\n",
    "<toolbox_data>\n",
    "    <header>\n",
    "        <_sh>v3.0  400  Rotokas Dictionary</_sh>\n",
    "        <_DateStampHasFourDigitYear/>\n",
    "    </header>\n",
    "\n",
    "    <record>\n",
    "        <lx>kaa</lx>\n",
    "        <ps>V.A</ps>\n",
    "        <ge>gag</ge>\n",
    "        <gp>nek i pas</gp>\n",
    "    </record>\n",
    "\n",
    "    <record>\n",
    "        <lx>kaa</lx>\n",
    "        <ps>V.B</ps>\n",
    "        <ge>strangle</ge>\n",
    "        <gp>pasim nek</gp>\n",
    "    </record>\n",
    "</toolbox_data>\n",
    "\n",
    "\n",
    "```"
   ]
  },
  {
   "cell_type": "code",
   "execution_count": 525,
   "metadata": {},
   "outputs": [],
   "source": [
    "# import csv\n",
    "\n",
    "# new_lex = []\n",
    "\n",
    "# with open('simple_lexicon.csv', encoding = 'utf-8-sig') as f:\n",
    "#     reader = csv.reader(f, delimiter = \",\")\n",
    "#     for row in reader:\n",
    "#         new_lex.append(row)\n",
    "    "
   ]
  },
  {
   "cell_type": "code",
   "execution_count": 526,
   "metadata": {},
   "outputs": [
    {
     "data": {
      "text/plain": [
       "[]"
      ]
     },
     "execution_count": 526,
     "metadata": {},
     "output_type": "execute_result"
    }
   ],
   "source": [
    "new_lex"
   ]
  },
  {
   "cell_type": "code",
   "execution_count": 527,
   "metadata": {},
   "outputs": [],
   "source": [
    "xml =   \"\"\" <toolbox_data>\n",
    "                <header>\n",
    "                    <_sh>v1.0 Absurdly Short Lexicon</_sh>\n",
    "                </header>\n",
    "        \"\"\"\n",
    "\n",
    "for nl in new_lex:\n",
    "\n",
    "    xml += \"\"\"\n",
    "                    <record>\n",
    "                        <lx>{}</lx>\n",
    "                        <ps>{}</ps>\n",
    "                        <gl>{}</gl>\n",
    "                    </record>\"\"\".format(nl[0], nl[1], nl[2])\n",
    "    \n",
    "xml += \"</toolbox_data>\""
   ]
  },
  {
   "cell_type": "code",
   "execution_count": 528,
   "metadata": {},
   "outputs": [
    {
     "name": "stdout",
     "output_type": "stream",
     "text": [
      " <toolbox_data>\n",
      "                <header>\n",
      "                    <_sh>v1.0 Absurdly Short Lexicon</_sh>\n",
      "                </header>\n",
      "        </toolbox_data>\n"
     ]
    }
   ],
   "source": [
    "print(xml)"
   ]
  },
  {
   "cell_type": "markdown",
   "metadata": {},
   "source": [
    "##### 11.\n",
    "\n",
    "◑ Index the words of Shakespeare's plays, with the help of `nltk.Index`. The resulting data structure should permit lookup on individual words such as *music*, returning a list of references to acts, scenes and speeches, of the form `[(3, 2, 9), (5, 1, 23), ...]`, where `(3, 2, 9)` indicates Act 3 Scene 2 Speech 9."
   ]
  },
  {
   "cell_type": "code",
   "execution_count": 529,
   "metadata": {},
   "outputs": [],
   "source": [
    "from xml.etree.ElementTree import ElementTree\n",
    "\n",
    "plays = [\"Anthony and Cleopatra\",\n",
    "         \"A Midsummer Night's Dream\",\n",
    "         \"Hamlet\",\n",
    "         \"Julius Caesar\",\n",
    "         \"MacBeth\",\n",
    "         \"The Merchant of Venice\",\n",
    "         \"Othello\",\n",
    "         \"Romeo and Juliet\"]\n",
    "\n",
    "\n",
    "def find_in_shakespeare(word):\n",
    "    print(\"The format for the references is [(A, S, P)], with A, S, P being respectively the Act, Scene, and Speech of the play.\\n\")\n",
    "    for pf, piece in zip(nltk.corpus.shakespeare.fileids(), plays):\n",
    "        play_file = nltk.data.find('corpora/shakespeare/{}'.format(pf))\n",
    "        play = ElementTree().parse(play_file)\n",
    "\n",
    "        refs = []\n",
    "\n",
    "        for i, act in enumerate(play.findall('ACT')):\n",
    "            for j, scene in enumerate(act.findall('SCENE')):\n",
    "                for k, speech in enumerate(scene.findall('SPEECH')):\n",
    "                    for line in speech.findall('LINE'):\n",
    "                        if word in str(line.text):\n",
    "                            refs.append((\"({}, {}, {})\".format(i + 1, j + 1, k + 1)))\n",
    "\n",
    "        print(\"References to '{}' in \\\"{}\\\":\".format(word, piece))\n",
    "        print(\"\\t\", refs, end = \" \")\n",
    "        print(\"\\n\")"
   ]
  },
  {
   "cell_type": "code",
   "execution_count": 530,
   "metadata": {},
   "outputs": [
    {
     "name": "stdout",
     "output_type": "stream",
     "text": [
      "The format for the references is [(A, S, P)], with A, S, P being respectively the Act, Scene, and Speech of the play.\n",
      "\n",
      "References to 'music' in \"Anthony and Cleopatra\":\n",
      "\t ['(2, 5, 1)', '(2, 5, 2)', '(2, 5, 7)', '(2, 7, 65)'] \n",
      "\n",
      "References to 'music' in \"A Midsummer Night's Dream\":\n",
      "\t ['(2, 1, 19)', '(4, 1, 11)', '(4, 1, 12)', '(4, 1, 22)', '(4, 1, 23)', '(4, 1, 25)', '(4, 1, 29)', '(4, 1, 29)', '(4, 1, 30)', '(5, 1, 8)'] \n",
      "\n",
      "References to 'music' in \"Hamlet\":\n",
      "\t ['(2, 1, 25)', '(3, 1, 42)', '(3, 2, 94)', '(3, 2, 94)', '(3, 2, 128)', '(3, 2, 130)', '(3, 4, 48)', '(5, 2, 147)'] \n",
      "\n",
      "References to 'music' in \"Julius Caesar\":\n",
      "\t ['(1, 2, 13)', '(1, 2, 49)', '(4, 3, 126)'] \n",
      "\n",
      "References to 'music' in \"MacBeth\":\n",
      "\t [] \n",
      "\n",
      "References to 'music' in \"The Merchant of Venice\":\n",
      "\t ['(3, 2, 9)', '(3, 2, 9)', '(3, 2, 9)', '(5, 1, 23)', '(5, 1, 23)', '(5, 1, 23)', '(5, 1, 24)', '(5, 1, 25)', '(5, 1, 25)', '(5, 1, 25)', '(5, 1, 25)', '(5, 1, 25)', '(5, 1, 29)', '(5, 1, 32)'] \n",
      "\n",
      "References to 'music' in \"Othello\":\n",
      "\t ['(2, 1, 71)', '(3, 1, 8)', '(3, 1, 10)', '(3, 1, 10)', '(4, 1, 88)', '(5, 2, 141)'] \n",
      "\n",
      "References to 'music' in \"Romeo and Juliet\":\n",
      "\t ['(1, 5, 7)', '(2, 2, 43)', '(2, 5, 3)', '(2, 6, 7)', '(4, 4, 11)', '(4, 5, 27)', '(4, 5, 29)', '(4, 5, 40)', '(4, 5, 40)', '(4, 5, 43)', '(4, 5, 46)', '(4, 5, 46)', '(4, 5, 46)'] \n",
      "\n"
     ]
    }
   ],
   "source": [
    "find_in_shakespeare('music')"
   ]
  },
  {
   "cell_type": "code",
   "execution_count": 531,
   "metadata": {},
   "outputs": [
    {
     "name": "stdout",
     "output_type": "stream",
     "text": [
      "The format for the references is [(A, S, P)], with A, S, P being respectively the Act, Scene, and Speech of the play.\n",
      "\n",
      "References to 'death' in \"Anthony and Cleopatra\":\n",
      "\t ['(1, 2, 61)', '(1, 2, 77)', '(1, 2, 79)', '(1, 2, 92)', '(1, 3, 24)', '(1, 3, 27)', '(3, 1, 1)', '(3, 5, 6)', '(3, 10, 6)', '(3, 11, 19)', '(3, 13, 66)', '(4, 2, 15)', '(4, 2, 17)', '(4, 9, 17)', '(4, 12, 5)', '(4, 13, 3)', '(4, 14, 9)', '(4, 14, 15)', '(4, 14, 30)', '(4, 14, 31)', '(4, 14, 41)', '(4, 14, 45)', '(4, 15, 4)', '(4, 15, 8)', '(4, 15, 28)', '(4, 15, 28)', '(4, 15, 28)', '(5, 1, 7)', '(5, 2, 14)', '(5, 2, 15)', '(5, 2, 16)', '(5, 2, 104)', '(5, 2, 111)', '(5, 2, 124)'] \n",
      "\n",
      "References to 'death' in \"A Midsummer Night's Dream\":\n",
      "\t ['(1, 1, 6)', '(1, 1, 13)', '(1, 1, 20)', '(1, 1, 30)', '(1, 2, 5)', '(2, 2, 23)', '(3, 2, 33)', '(3, 2, 47)', '(3, 2, 92)', '(3, 2, 92)', '(4, 1, 50)', '(5, 1, 10)', '(5, 1, 48)', '(5, 1, 83)'] \n",
      "\n",
      "References to 'death' in \"Hamlet\":\n",
      "\t ['(1, 1, 50)', '(1, 2, 1)', '(1, 2, 1)', '(1, 2, 15)', '(1, 4, 11)', '(1, 5, 16)', '(2, 2, 1)', '(2, 2, 15)', '(2, 2, 146)', '(2, 2, 154)', '(3, 1, 19)', '(3, 1, 19)', '(3, 2, 13)', '(3, 3, 7)', '(3, 4, 50)', '(4, 3, 27)', '(4, 4, 17)', '(4, 4, 17)', '(4, 5, 24)', '(4, 5, 24)', '(4, 5, 24)', '(4, 5, 24)', '(4, 5, 45)', '(4, 5, 49)', '(4, 5, 60)', '(4, 5, 63)', '(4, 6, 7)', '(4, 7, 15)', '(4, 7, 32)', '(4, 7, 32)', '(4, 7, 36)', '(5, 1, 7)', '(5, 1, 88)', '(5, 2, 11)', '(5, 2, 133)', '(5, 2, 134)', '(5, 2, 142)', '(5, 2, 144)', '(5, 2, 144)'] \n",
      "\n",
      "References to 'death' in \"Julius Caesar\":\n",
      "\t ['(1, 2, 35)', '(1, 2, 35)', '(2, 1, 5)', '(2, 1, 45)', '(2, 2, 9)', '(2, 2, 10)', '(2, 2, 10)', '(2, 2, 10)', '(2, 4, 18)', '(3, 1, 51)', '(3, 1, 52)', '(3, 1, 52)', '(3, 1, 59)', '(3, 1, 65)', '(3, 1, 65)', '(3, 1, 66)', '(3, 1, 69)', '(3, 1, 78)', '(3, 2, 2)', '(3, 2, 6)', '(3, 2, 8)', '(3, 2, 8)', '(3, 2, 8)', '(3, 2, 8)', '(3, 2, 77)', '(4, 3, 69)', '(4, 3, 80)', '(5, 1, 39)', '(5, 4, 6)', '(5, 5, 28)'] \n",
      "\n",
      "References to 'death' in \"MacBeth\":\n",
      "\t ['(1, 2, 16)', '(1, 3, 27)', '(1, 3, 35)', '(1, 4, 2)', '(1, 7, 10)', '(1, 7, 12)', '(2, 2, 1)', '(2, 2, 20)', '(2, 3, 20)', '(2, 3, 28)', '(2, 3, 28)', '(3, 1, 22)', '(3, 4, 12)', '(3, 5, 2)', '(3, 5, 2)', '(4, 3, 53)', '(5, 3, 19)', '(5, 5, 5)', '(5, 6, 3)', '(5, 8, 18)'] \n",
      "\n",
      "References to 'death' in \"The Merchant of Venice\":\n",
      "\t ['(1, 2, 6)', '(1, 2, 11)', '(3, 1, 3)', '(3, 2, 9)', '(3, 2, 45)', '(4, 1, 24)', '(4, 1, 71)', '(4, 1, 76)', '(4, 1, 112)', '(5, 1, 50)', '(5, 1, 87)'] \n",
      "\n",
      "References to 'death' in \"Othello\":\n",
      "\t ['(1, 3, 71)', '(2, 1, 15)', '(2, 1, 68)', '(2, 3, 60)', '(3, 3, 96)', '(3, 3, 162)', '(4, 2, 101)', '(5, 1, 21)', '(5, 2, 20)', '(5, 2, 25)', '(5, 2, 57)', '(5, 2, 72)', '(5, 2, 156)', '(5, 2, 164)'] \n",
      "\n",
      "References to 'death' in \"Romeo and Juliet\":\n",
      "\t ['(1, 1, 42)', '(1, 1, 51)', '(1, 4, 27)', '(2, 2, 12)', '(2, 2, 17)', '(2, 3, 1)', '(2, 5, 10)', '(2, 6, 2)', '(3, 1, 36)', '(3, 1, 46)', '(3, 1, 56)', '(3, 2, 7)', '(3, 2, 19)', '(3, 2, 19)', '(3, 2, 19)', '(3, 2, 19)', '(3, 2, 21)', '(3, 3, 5)', '(3, 3, 6)', '(3, 3, 6)', '(3, 3, 8)', '(3, 3, 8)', '(3, 3, 9)', '(3, 3, 9)', '(3, 3, 10)', '(3, 3, 10)', '(3, 3, 28)', '(3, 3, 32)', '(3, 5, 4)', '(3, 5, 4)', '(3, 5, 23)', '(3, 5, 27)', '(3, 5, 32)', '(4, 1, 4)', '(4, 1, 28)', '(4, 1, 28)', '(4, 1, 30)', '(4, 1, 30)', '(4, 1, 30)', '(4, 3, 5)', '(4, 5, 17)', '(4, 5, 19)', '(4, 5, 19)', '(4, 5, 21)', '(5, 1, 7)', '(5, 1, 10)', '(5, 3, 4)', '(5, 3, 8)', '(5, 3, 9)', '(5, 3, 15)', '(5, 3, 15)', '(5, 3, 15)', '(5, 3, 15)', '(5, 3, 15)', '(5, 3, 25)', '(5, 3, 30)', '(5, 3, 48)', '(5, 3, 53)', '(5, 3, 56)', '(5, 3, 56)', '(5, 3, 58)', '(5, 3, 58)', '(5, 3, 61)'] \n",
      "\n"
     ]
    }
   ],
   "source": [
    "find_in_shakespeare('death')"
   ]
  },
  {
   "cell_type": "code",
   "execution_count": 532,
   "metadata": {},
   "outputs": [
    {
     "name": "stdout",
     "output_type": "stream",
     "text": [
      "The format for the references is [(A, S, P)], with A, S, P being respectively the Act, Scene, and Speech of the play.\n",
      "\n",
      "References to 'Romans' in \"Anthony and Cleopatra\":\n",
      "\t ['(3, 2, 20)'] \n",
      "\n",
      "References to 'Romans' in \"A Midsummer Night's Dream\":\n",
      "\t [] \n",
      "\n",
      "References to 'Romans' in \"Hamlet\":\n",
      "\t [] \n",
      "\n",
      "References to 'Romans' in \"Julius Caesar\":\n",
      "\t ['(1, 2, 36)', '(1, 3, 19)', '(1, 3, 23)', '(1, 3, 23)', '(1, 3, 25)', '(2, 1, 35)', '(2, 1, 59)', '(2, 1, 79)', '(2, 2, 20)', '(2, 2, 21)', '(3, 1, 52)', '(3, 2, 6)', '(3, 2, 28)', '(3, 2, 30)', '(5, 3, 32)', '(5, 3, 32)', '(5, 3, 32)'] \n",
      "\n",
      "References to 'Romans' in \"MacBeth\":\n",
      "\t [] \n",
      "\n",
      "References to 'Romans' in \"The Merchant of Venice\":\n",
      "\t [] \n",
      "\n",
      "References to 'Romans' in \"Othello\":\n",
      "\t [] \n",
      "\n",
      "References to 'Romans' in \"Romeo and Juliet\":\n",
      "\t [] \n",
      "\n"
     ]
    }
   ],
   "source": [
    "find_in_shakespeare('Romans')"
   ]
  },
  {
   "cell_type": "code",
   "execution_count": 533,
   "metadata": {},
   "outputs": [
    {
     "name": "stdout",
     "output_type": "stream",
     "text": [
      "The format for the references is [(A, S, P)], with A, S, P being respectively the Act, Scene, and Speech of the play.\n",
      "\n",
      "References to 'Venice' in \"Anthony and Cleopatra\":\n",
      "\t [] \n",
      "\n",
      "References to 'Venice' in \"A Midsummer Night's Dream\":\n",
      "\t [] \n",
      "\n",
      "References to 'Venice' in \"Hamlet\":\n",
      "\t [] \n",
      "\n",
      "References to 'Venice' in \"Julius Caesar\":\n",
      "\t [] \n",
      "\n",
      "References to 'Venice' in \"MacBeth\":\n",
      "\t [] \n",
      "\n",
      "References to 'Venice' in \"The Merchant of Venice\":\n",
      "\t ['(1, 1, 25)', '(1, 1, 32)', '(1, 3, 17)', '(2, 8, 5)', '(3, 1, 34)', '(3, 1, 39)', '(3, 2, 34)', '(3, 2, 44)', '(3, 3, 9)', '(3, 4, 7)', '(4, 1, 19)', '(4, 1, 50)', '(4, 1, 54)', '(4, 1, 59)', '(4, 1, 86)', '(4, 1, 86)', '(4, 1, 105)', '(4, 1, 130)', '(5, 1, 5)'] \n",
      "\n",
      "References to 'Venice' in \"Othello\":\n",
      "\t ['(1, 1, 28)', '(2, 1, 6)', '(2, 1, 79)', '(2, 1, 85)', '(2, 3, 98)', '(3, 3, 75)', '(3, 4, 71)', '(4, 1, 103)', '(4, 1, 106)', '(4, 1, 130)', '(4, 1, 138)', '(4, 2, 41)', '(4, 2, 77)', '(4, 2, 95)', '(4, 2, 96)', '(4, 3, 23)', '(5, 1, 58)'] \n",
      "\n",
      "References to 'Venice' in \"Romeo and Juliet\":\n",
      "\t [] \n",
      "\n"
     ]
    }
   ],
   "source": [
    "find_in_shakespeare('Venice')"
   ]
  },
  {
   "cell_type": "markdown",
   "metadata": {},
   "source": [
    "##### 12.\n",
    "\n",
    "◑ Construct a conditional frequency distribution which records the word length for each speech in *The Merchant of Venice*, conditioned on the name of the character, e.g. `cfd['PORTIA'][12]` would give us the number of speeches by Portia consisting of 12 words."
   ]
  },
  {
   "cell_type": "code",
   "execution_count": 534,
   "metadata": {},
   "outputs": [],
   "source": [
    "import re\n",
    "from xml.etree.ElementTree import ElementTree\n",
    "from nltk.probability import ConditionalFreqDist\n",
    "\n",
    "merchant_file = nltk.data.find('corpora/shakespeare/merchant.xml')\n",
    "merchant = ElementTree().parse(merchant_file)\n",
    "\n",
    "lines_by_speaker = []\n",
    "\n",
    "tokenizer = nltk.tokenize.RegexpTokenizer(r'\\w+')\n",
    "\n",
    "for act in merchant.findall('ACT'):\n",
    "    for scene in act.findall('SCENE'):\n",
    "        for speech in scene.findall('SPEECH'):\n",
    "            for speaker in speech.findall('SPEAKER'):\n",
    "                tally = 0\n",
    "            for line in speech.findall('LINE'):\n",
    "                if line.text:\n",
    "                    tally += len([w for w in tokenizer.tokenize(line.text)])\n",
    "            lines_by_speaker.append((speaker.text, tally))\n",
    "            \n",
    "cfd = ConditionalFreqDist((s, l) for s, l in lines_by_speaker)"
   ]
  },
  {
   "cell_type": "code",
   "execution_count": 535,
   "metadata": {},
   "outputs": [
    {
     "data": {
      "text/plain": [
       "3"
      ]
     },
     "execution_count": 535,
     "metadata": {},
     "output_type": "execute_result"
    }
   ],
   "source": [
    "cfd['PORTIA'][12]"
   ]
  },
  {
   "cell_type": "markdown",
   "metadata": {},
   "source": [
    "*Of course, I have no way of knowing whether this is correct, since the authors have neglected to post the answer.  So I have to amend the code above so that I can visually inspect all of Portia's lines:*"
   ]
  },
  {
   "cell_type": "code",
   "execution_count": 536,
   "metadata": {},
   "outputs": [
    {
     "name": "stdout",
     "output_type": "stream",
     "text": [
      "By my troth, Nerissa, my little body is aweary of\n",
      "this great world.\n",
      "**** 13\n",
      "Good sentences and well pronounced.\n",
      "**** 5\n",
      "If to do were as easy as to know what were good to\n",
      "do, chapels had been churches and poor men's\n",
      "cottages princes' palaces. It is a good divine that\n",
      "follows his own instructions: I can easier teach\n",
      "twenty what were good to be done, than be one of the\n",
      "twenty to follow mine own teaching. The brain may\n",
      "devise laws for the blood, but a hot temper leaps\n",
      "o'er a cold decree: such a hare is madness the\n",
      "youth, to skip o'er the meshes of good counsel the\n",
      "cripple. But this reasoning is not in the fashion to\n",
      "choose me a husband. O me, the word 'choose!' I may\n",
      "neither choose whom I would nor refuse whom I\n",
      "dislike; so is the will of a living daughter curbed\n",
      "by the will of a dead father. Is it not hard,\n",
      "Nerissa, that I cannot choose one nor refuse none?\n",
      "**** 152\n",
      "I pray thee, over-name them; and as thou namest\n",
      "them, I will describe them; and, according to my\n",
      "description, level at my affection.\n",
      "**** 24\n",
      "Ay, that's a colt indeed, for he doth nothing but\n",
      "talk of his horse; and he makes it a great\n",
      "appropriation to his own good parts, that he can\n",
      "shoe him himself. I am much afeard my lady his\n",
      "mother played false with a smith.\n",
      "**** 46\n",
      "He doth nothing but frown, as who should say 'If you\n",
      "will not have me, choose:' he hears merry tales and\n",
      "smiles not: I fear he will prove the weeping\n",
      "philosopher when he grows old, being so full of\n",
      "unmannerly sadness in his youth. I had rather be\n",
      "married to a death's-head with a bone in his mouth\n",
      "than to either of these. God defend me from these\n",
      "two!\n",
      "**** 71\n",
      "God made him, and therefore let him pass for a man.\n",
      "In truth, I know it is a sin to be a mocker: but,\n",
      "he! why, he hath a horse better than the\n",
      "Neapolitan's, a better bad habit of frowning than\n",
      "the Count Palatine; he is every man in no man; if a\n",
      "throstle sing, he falls straight a capering: he will\n",
      "fence with his own shadow: if I should marry him, I\n",
      "should marry twenty husbands. If he would despise me\n",
      "I would forgive him, for if he love me to madness, I\n",
      "shall never requite him.\n",
      "**** 99\n",
      "You know I say nothing to him, for he understands\n",
      "not me, nor I him: he hath neither Latin, French,\n",
      "nor Italian, and you will come into the court and\n",
      "swear that I have a poor pennyworth in the English.\n",
      "He is a proper man's picture, but, alas, who can\n",
      "converse with a dumb-show? How oddly he is suited!\n",
      "I think he bought his doublet in Italy, his round\n",
      "hose in France, his bonnet in Germany and his\n",
      "behavior every where.\n",
      "**** 83\n",
      "That he hath a neighbourly charity in him, for he\n",
      "borrowed a box of the ear of the Englishman and\n",
      "swore he would pay him again when he was able: I\n",
      "think the Frenchman became his surety and sealed\n",
      "under for another.\n",
      "**** 42\n",
      "Very vilely in the morning, when he is sober, and\n",
      "most vilely in the afternoon, when he is drunk: when\n",
      "he is best, he is a little worse than a man, and\n",
      "when he is worst, he is little better than a beast:\n",
      "and the worst fall that ever fell, I hope I shall\n",
      "make shift to go without him.\n",
      "**** 60\n",
      "Therefore, for fear of the worst, I pray thee, set a\n",
      "deep glass of rhenish wine on the contrary casket,\n",
      "for if the devil be within and that temptation\n",
      "without, I know he will choose it. I will do any\n",
      "thing, Nerissa, ere I'll be married to a sponge.\n",
      "**** 50\n",
      "If I live to be as old as Sibylla, I will die as\n",
      "chaste as Diana, unless I be obtained by the manner\n",
      "of my father's will. I am glad this parcel of wooers\n",
      "are so reasonable, for there is not one among them\n",
      "but I dote on his very absence, and I pray God grant\n",
      "them a fair departure.\n",
      "**** 61\n",
      "Yes, yes, it was Bassanio; as I think, he was so called.\n",
      "**** 12\n",
      "I remember him well, and I remember him worthy of\n",
      "thy praise.\n",
      "How now! what news?\n",
      "**** 16\n",
      "If I could bid the fifth welcome with so good a\n",
      "heart as I can bid the other four farewell, I should\n",
      "be glad of his approach: if he have the condition\n",
      "of a saint and the complexion of a devil, I had\n",
      "rather he should shrive me than wive me. Come,\n",
      "Nerissa. Sirrah, go before.\n",
      "Whiles we shut the gates\n",
      "upon one wooer, another knocks at the door.\n",
      "**** 69\n",
      "In terms of choice I am not solely led\n",
      "By nice direction of a maiden's eyes;\n",
      "Besides, the lottery of my destiny\n",
      "Bars me the right of voluntary choosing:\n",
      "But if my father had not scanted me\n",
      "And hedged me by his wit, to yield myself\n",
      "His wife who wins me by that means I told you,\n",
      "Yourself, renowned prince, then stood as fair\n",
      "As any comer I have look'd on yet\n",
      "For my affection.\n",
      "**** 77\n",
      "You must take your chance,\n",
      "And either not attempt to choose at all\n",
      "Or swear before you choose, if you choose wrong\n",
      "Never to speak to lady afterward\n",
      "In way of marriage: therefore be advised.\n",
      "**** 35\n",
      "First, forward to the temple: after dinner\n",
      "Your hazard shall be made.\n",
      "**** 12\n",
      "Go draw aside the curtains and discover\n",
      "The several caskets to this noble prince.\n",
      "Now make your choice.\n",
      "**** 18\n",
      "The one of them contains my picture, prince:\n",
      "If you choose that, then I am yours withal.\n",
      "**** 17\n",
      "There, take it, prince; and if my form lie there,\n",
      "Then I am yours.\n",
      "**** 14\n",
      "A gentle riddance. Draw the curtains, go.\n",
      "Let all of his complexion choose me so.\n",
      "**** 15\n",
      "Behold, there stand the caskets, noble prince:\n",
      "If you choose that wherein I am contain'd,\n",
      "Straight shall our nuptial rites be solemnized:\n",
      "But if you fail, without more speech, my lord,\n",
      "You must be gone from hence immediately.\n",
      "**** 39\n",
      "To these injunctions every one doth swear\n",
      "That comes to hazard for my worthless self.\n",
      "**** 15\n",
      "Too long a pause for that which you find there.\n",
      "**** 10\n",
      "To offend, and judge, are distinct offices\n",
      "And of opposed natures.\n",
      "**** 11\n",
      "Thus hath the candle singed the moth.\n",
      "O, these deliberate fools! when they do choose,\n",
      "They have the wisdom by their wit to lose.\n",
      "**** 24\n",
      "Come, draw the curtain, Nerissa.\n",
      "**** 5\n",
      "Here: what would my lord?\n",
      "**** 5\n",
      "No more, I pray thee: I am half afeard\n",
      "Thou wilt say anon he is some kin to thee,\n",
      "Thou spend'st such high-day wit in praising him.\n",
      "Come, come, Nerissa; for I long to see\n",
      "Quick Cupid's post that comes so mannerly.\n",
      "**** 45\n",
      "I pray you, tarry: pause a day or two\n",
      "Before you hazard; for, in choosing wrong,\n",
      "I lose your company: therefore forbear awhile.\n",
      "There's something tells me, but it is not love,\n",
      "I would not lose you; and you know yourself,\n",
      "Hate counsels not in such a quality.\n",
      "But lest you should not understand me well,--\n",
      "And yet a maiden hath no tongue but thought,--\n",
      "I would detain you here some month or two\n",
      "Before you venture for me. I could teach you\n",
      "How to choose right, but I am then forsworn;\n",
      "So will I never be: so may you miss me;\n",
      "But if you do, you'll make me wish a sin,\n",
      "That I had been forsworn. Beshrew your eyes,\n",
      "They have o'erlook'd me and divided me;\n",
      "One half of me is yours, the other half yours,\n",
      "Mine own, I would say; but if mine, then yours,\n",
      "And so all yours. O, these naughty times\n",
      "Put bars between the owners and their rights!\n",
      "And so, though yours, not yours. Prove it so,\n",
      "Let fortune go to hell for it, not I.\n",
      "I speak too long; but 'tis to peize the time,\n",
      "To eke it and to draw it out in length,\n",
      "To stay you from election.\n",
      "**** 210\n",
      "Upon the rack, Bassanio! then confess\n",
      "What treason there is mingled with your love.\n",
      "**** 14\n",
      "Ay, but I fear you speak upon the rack,\n",
      "Where men enforced do speak anything.\n",
      "**** 15\n",
      "Well then, confess and live.\n",
      "**** 5\n",
      "Away, then! I am lock'd in one of them:\n",
      "If you do love me, you will find me out.\n",
      "Nerissa and the rest, stand all aloof.\n",
      "Let music sound while he doth make his choice;\n",
      "Then, if he lose, he makes a swan-like end,\n",
      "Fading in music: that the comparison\n",
      "May stand more proper, my eye shall be the stream\n",
      "And watery death-bed for him. He may win;\n",
      "And what is music then? Then music is\n",
      "Even as the flourish when true subjects bow\n",
      "To a new-crowned monarch: such it is\n",
      "As are those dulcet sounds in break of day\n",
      "That creep into the dreaming bridegroom's ear,\n",
      "And summon him to marriage. Now he goes,\n",
      "With no less presence, but with much more love,\n",
      "Than young Alcides, when he did redeem\n",
      "The virgin tribute paid by howling Troy\n",
      "To the sea-monster: I stand for sacrifice\n",
      "The rest aloof are the Dardanian wives,\n",
      "With bleared visages, come forth to view\n",
      "The issue of the exploit. Go, Hercules!\n",
      "Live thou, I live: with much, much more dismay\n",
      "I view the fight than thou that makest the fray.\n",
      "Tell me where is fancy bred,\n",
      "Or in the heart, or in the head?\n",
      "How begot, how nourished?\n",
      "Reply, reply.\n",
      "It is engender'd in the eyes,\n",
      "With gazing fed; and fancy dies\n",
      "In the cradle where it lies.\n",
      "Let us all ring fancy's knell\n",
      "I'll begin it,--Ding, dong, bell.\n",
      "**** 244\n",
      "As doubtful thoughts, and rash-embraced despair,\n",
      "And shuddering fear, and green-eyed jealousy! O love,\n",
      "Be moderate; allay thy ecstasy,\n",
      "In measure rein thy joy; scant this excess.\n",
      "I feel too much thy blessing: make it less,\n",
      "For fear I surfeit.\n",
      "**** 42\n",
      "You see me, Lord Bassanio, where I stand,\n",
      "Such as I am: though for myself alone\n",
      "I would not be ambitious in my wish,\n",
      "To wish myself much better; yet, for you\n",
      "I would be trebled twenty times myself;\n",
      "A thousand times more fair, ten thousand times more rich;\n",
      "That only to stand high in your account,\n",
      "I might in virtue, beauties, livings, friends,\n",
      "Exceed account; but the full sum of me\n",
      "Is sum of something, which, to term in gross,\n",
      "Is an unlesson'd girl, unschool'd, unpractised;\n",
      "Happy in this, she is not yet so old\n",
      "But she may learn; happier than this,\n",
      "She is not bred so dull but she can learn;\n",
      "Happiest of all is that her gentle spirit\n",
      "Commits itself to yours to be directed,\n",
      "As from her lord, her governor, her king.\n",
      "Myself and what is mine to you and yours\n",
      "Is now converted: but now I was the lord\n",
      "Of this fair mansion, master of my servants,\n",
      "Queen o'er myself: and even now, but now,\n",
      "This house, these servants and this same myself\n",
      "Are yours, my lord: I give them with this ring;\n",
      "Which when you part from, lose, or give away,\n",
      "Let it presage the ruin of your love\n",
      "And be my vantage to exclaim on you.\n",
      "**** 216\n",
      "Is this true, Nerissa?\n",
      "**** 4\n",
      "So do I, my lord:\n",
      "They are entirely welcome.\n",
      "**** 9\n",
      "There are some shrewd contents in yon same paper,\n",
      "That steals the colour from Bassanio's cheek:\n",
      "Some dear friend dead; else nothing in the world\n",
      "Could turn so much the constitution\n",
      "Of any constant man. What, worse and worse!\n",
      "With leave, Bassanio: I am half yourself,\n",
      "And I must freely have the half of anything\n",
      "That this same paper brings you.\n",
      "**** 62\n",
      "Is it your dear friend that is thus in trouble?\n",
      "**** 10\n",
      "What sum owes he the Jew?\n",
      "**** 6\n",
      "What, no more?\n",
      "Pay him six thousand, and deface the bond;\n",
      "Double six thousand, and then treble that,\n",
      "Before a friend of this description\n",
      "Shall lose a hair through Bassanio's fault.\n",
      "First go with me to church and call me wife,\n",
      "And then away to Venice to your friend;\n",
      "For never shall you lie by Portia's side\n",
      "With an unquiet soul. You shall have gold\n",
      "To pay the petty debt twenty times over:\n",
      "When it is paid, bring your true friend along.\n",
      "My maid Nerissa and myself meantime\n",
      "Will live as maids and widows. Come, away!\n",
      "For you shall hence upon your wedding-day:\n",
      "Bid your friends welcome, show a merry cheer:\n",
      "Since you are dear bought, I will love you dear.\n",
      "But let me hear the letter of your friend.\n",
      "**** 133\n",
      "O love, dispatch all business, and be gone!\n",
      "**** 8\n",
      "I never did repent for doing good,\n",
      "Nor shall not now: for in companions\n",
      "That do converse and waste the time together,\n",
      "Whose souls do bear an equal yoke Of love,\n",
      "There must be needs a like proportion\n",
      "Of lineaments, of manners and of spirit;\n",
      "Which makes me think that this Antonio,\n",
      "Being the bosom lover of my lord,\n",
      "Must needs be like my lord. If it be so,\n",
      "How little is the cost I have bestow'd\n",
      "In purchasing the semblance of my soul\n",
      "From out the state of hellish misery!\n",
      "This comes too near the praising of myself;\n",
      "Therefore no more of it: hear other things.\n",
      "Lorenzo, I commit into your hands\n",
      "The husbandry and manage of my house\n",
      "Until my lord's return: for mine own part,\n",
      "I have toward heaven breathed a secret vow\n",
      "To live in prayer and contemplation,\n",
      "Only attended by Nerissa here,\n",
      "Until her husband and my lord's return:\n",
      "There is a monastery two miles off;\n",
      "And there will we abide. I do desire you\n",
      "Not to deny this imposition;\n",
      "The which my love and some necessity\n",
      "Now lays upon you.\n",
      "**** 189\n",
      "My people do already know my mind,\n",
      "And will acknowledge you and Jessica\n",
      "In place of Lord Bassanio and myself.\n",
      "And so farewell, till we shall meet again.\n",
      "**** 28\n",
      "I thank you for your wish, and am well pleased\n",
      "To wish it back on you: fare you well Jessica.\n",
      "Now, Balthasar,\n",
      "As I have ever found thee honest-true,\n",
      "So let me find thee still. Take this same letter,\n",
      "And use thou all the endeavour of a man\n",
      "In speed to Padua: see thou render this\n",
      "Into my cousin's hand, Doctor Bellario;\n",
      "And, look, what notes and garments he doth give thee,\n",
      "Bring them, I pray thee, with imagined speed\n",
      "Unto the tranect, to the common ferry\n",
      "Which trades to Venice. Waste no time in words,\n",
      "But get thee gone: I shall be there before thee.\n",
      "**** 108\n",
      "Come on, Nerissa; I have work in hand\n",
      "That you yet know not of: we'll see our husbands\n",
      "Before they think of us.\n",
      "**** 24\n",
      "They shall, Nerissa; but in such a habit,\n",
      "That they shall think we are accomplished\n",
      "With that we lack. I'll hold thee any wager,\n",
      "When we are both accoutred like young men,\n",
      "I'll prove the prettier fellow of the two,\n",
      "And wear my dagger with the braver grace,\n",
      "And speak between the change of man and boy\n",
      "With a reed voice, and turn two mincing steps\n",
      "Into a manly stride, and speak of frays\n",
      "Like a fine bragging youth, and tell quaint lies,\n",
      "How honourable ladies sought my love,\n",
      "Which I denying, they fell sick and died;\n",
      "I could not do withal; then I'll repent,\n",
      "And wish for all that, that I had not killed them;\n",
      "And twenty of these puny lies I'll tell,\n",
      "That men shall swear I have discontinued school\n",
      "Above a twelvemonth. I have within my mind\n",
      "A thousand raw tricks of these bragging Jacks,\n",
      "Which I will practise.\n",
      "**** 156\n",
      "Fie, what a question's that,\n",
      "If thou wert near a lewd interpreter!\n",
      "But come, I'll tell thee all my whole device\n",
      "When I am in my coach, which stays for us\n",
      "At the park gate; and therefore haste away,\n",
      "For we must measure twenty miles to-day.\n",
      "**** 49\n",
      "I did, my lord.\n",
      "**** 4\n",
      "I am informed thoroughly of the cause.\n",
      "Which is the merchant here, and which the Jew?\n",
      "**** 16\n",
      "Is your name Shylock?\n",
      "**** 4\n",
      "Of a strange nature is the suit you follow;\n",
      "Yet in such rule that the Venetian law\n",
      "Cannot impugn you as you do proceed.\n",
      "You stand within his danger, do you not?\n",
      "**** 32\n",
      "Do you confess the bond?\n",
      "**** 5\n",
      "Then must the Jew be merciful.\n",
      "**** 6\n",
      "The quality of mercy is not strain'd,\n",
      "It droppeth as the gentle rain from heaven\n",
      "Upon the place beneath: it is twice blest;\n",
      "It blesseth him that gives and him that takes:\n",
      "'Tis mightiest in the mightiest: it becomes\n",
      "The throned monarch better than his crown;\n",
      "His sceptre shows the force of temporal power,\n",
      "The attribute to awe and majesty,\n",
      "Wherein doth sit the dread and fear of kings;\n",
      "But mercy is above this sceptred sway;\n",
      "It is enthroned in the hearts of kings,\n",
      "It is an attribute to God himself;\n",
      "And earthly power doth then show likest God's\n",
      "When mercy seasons justice. Therefore, Jew,\n",
      "Though justice be thy plea, consider this,\n",
      "That, in the course of justice, none of us\n",
      "Should see salvation: we do pray for mercy;\n",
      "And that same prayer doth teach us all to render\n",
      "The deeds of mercy. I have spoke thus much\n",
      "To mitigate the justice of thy plea;\n",
      "Which if thou follow, this strict court of Venice\n",
      "Must needs give sentence 'gainst the merchant there.\n",
      "**** 174\n",
      "Is he not able to discharge the money?\n",
      "**** 8\n",
      "It must not be; there is no power in Venice\n",
      "Can alter a decree established:\n",
      "'Twill be recorded for a precedent,\n",
      "And many an error by the same example\n",
      "Will rush into the state: it cannot be.\n",
      "**** 37\n",
      "I pray you, let me look upon the bond.\n",
      "**** 9\n",
      "Shylock, there's thrice thy money offer'd thee.\n",
      "**** 9\n",
      "Why, this bond is forfeit;\n",
      "And lawfully by this the Jew may claim\n",
      "A pound of flesh, to be by him cut off\n",
      "Nearest the merchant's heart. Be merciful:\n",
      "Take thrice thy money; bid me tear the bond.\n",
      "**** 39\n",
      "Why then, thus it is:\n",
      "You must prepare your bosom for his knife.\n",
      "**** 13\n",
      "For the intent and purpose of the law\n",
      "Hath full relation to the penalty,\n",
      "Which here appeareth due upon the bond.\n",
      "**** 21\n",
      "Therefore lay bare your bosom.\n",
      "**** 5\n",
      "It is so. Are there balance here to weigh\n",
      "The flesh?\n",
      "**** 11\n",
      "Have by some surgeon, Shylock, on your charge,\n",
      "To stop his wounds, lest he do bleed to death.\n",
      "**** 18\n",
      "It is not so express'd: but what of that?\n",
      "'Twere good you do so much for charity.\n",
      "**** 18\n",
      "You, merchant, have you any thing to say?\n",
      "**** 8\n",
      "Your wife would give you little thanks for that,\n",
      "If she were by, to hear you make the offer.\n",
      "**** 19\n",
      "A pound of that same merchant's flesh is thine:\n",
      "The court awards it, and the law doth give it.\n",
      "**** 20\n",
      "And you must cut this flesh from off his breast:\n",
      "The law allows it, and the court awards it.\n",
      "**** 19\n",
      "Tarry a little; there is something else.\n",
      "This bond doth give thee here no jot of blood;\n",
      "The words expressly are 'a pound of flesh:'\n",
      "Take then thy bond, take thou thy pound of flesh;\n",
      "But, in the cutting it, if thou dost shed\n",
      "One drop of Christian blood, thy lands and goods\n",
      "Are, by the laws of Venice, confiscate\n",
      "Unto the state of Venice.\n",
      "**** 65\n",
      "Thyself shalt see the act:\n",
      "For, as thou urgest justice, be assured\n",
      "Thou shalt have justice, more than thou desirest.\n",
      "**** 20\n",
      "Soft!\n",
      "The Jew shall have all justice; soft! no haste:\n",
      "He shall have nothing but the penalty.\n",
      "**** 17\n",
      "Therefore prepare thee to cut off the flesh.\n",
      "Shed thou no blood, nor cut thou less nor more\n",
      "But just a pound of flesh: if thou cut'st more\n",
      "Or less than a just pound, be it but so much\n",
      "As makes it light or heavy in the substance,\n",
      "Or the division of the twentieth part\n",
      "Of one poor scruple, nay, if the scale do turn\n",
      "But in the estimation of a hair,\n",
      "Thou diest and all thy goods are confiscate.\n",
      "**** 81\n",
      "Why doth the Jew pause? take thy forfeiture.\n",
      "**** 8\n",
      "He hath refused it in the open court:\n",
      "He shall have merely justice and his bond.\n",
      "**** 16\n",
      "Thou shalt have nothing but the forfeiture,\n",
      "To be so taken at thy peril, Jew.\n",
      "**** 15\n",
      "Tarry, Jew:\n",
      "The law hath yet another hold on you.\n",
      "It is enacted in the laws of Venice,\n",
      "If it be proved against an alien\n",
      "That by direct or indirect attempts\n",
      "He seek the life of any citizen,\n",
      "The party 'gainst the which he doth contrive\n",
      "Shall seize one half his goods; the other half\n",
      "Comes to the privy coffer of the state;\n",
      "And the offender's life lies in the mercy\n",
      "Of the duke only, 'gainst all other voice.\n",
      "In which predicament, I say, thou stand'st;\n",
      "For it appears, by manifest proceeding,\n",
      "That indirectly and directly too\n",
      "Thou hast contrived against the very life\n",
      "Of the defendant; and thou hast incurr'd\n",
      "The danger formerly by me rehearsed.\n",
      "Down therefore and beg mercy of the duke.\n",
      "**** 128\n",
      "Ay, for the state, not for Antonio.\n",
      "**** 7\n",
      "What mercy can you render him, Antonio?\n",
      "**** 7\n",
      "Art thou contented, Jew? what dost thou say?\n",
      "**** 8\n",
      "Clerk, draw a deed of gift.\n",
      "**** 6\n",
      "I humbly do desire your grace of pardon:\n",
      "I must away this night toward Padua,\n",
      "And it is meet I presently set forth.\n",
      "**** 23\n",
      "He is well paid that is well satisfied;\n",
      "And I, delivering you, am satisfied\n",
      "And therein do account myself well paid:\n",
      "My mind was never yet more mercenary.\n",
      "I pray you, know me when we meet again:\n",
      "I wish you well, and so I take my leave.\n",
      "**** 47\n",
      "You press me far, and therefore I will yield.\n",
      "Give me your gloves, I'll wear them for your sake;\n",
      "And, for your love, I'll take this ring from you:\n",
      "Do not draw back your hand; I'll take no more;\n",
      "And you in love shall not deny me this.\n",
      "**** 51\n",
      "I will have nothing else but only this;\n",
      "And now methinks I have a mind to it.\n",
      "**** 17\n",
      "I see, sir, you are liberal in offers\n",
      "You taught me first to beg; and now methinks\n",
      "You teach me how a beggar should be answer'd.\n",
      "**** 27\n",
      "That 'scuse serves many men to save their gifts.\n",
      "An if your wife be not a mad-woman,\n",
      "And know how well I have deserved the ring,\n",
      "She would not hold out enemy for ever,\n",
      "For giving it to me. Well, peace be with you!\n",
      "**** 45\n",
      "Inquire the Jew's house out, give him this deed\n",
      "And let him sign it: we'll away to-night\n",
      "And be a day before our husbands home:\n",
      "This deed will be well welcome to Lorenzo.\n",
      "**** 36\n",
      "That cannot be:\n",
      "His ring I do accept most thankfully:\n",
      "And so, I pray you, tell him: furthermore,\n",
      "I pray you, show my youth old Shylock's house.\n",
      "**** 28\n",
      "We shall have old swearing\n",
      "That they did give the rings away to men;\n",
      "But we'll outface them, and outswear them too.\n",
      "Away! make haste: thou knowist where I will tarry.\n",
      "**** 32\n",
      "That light we see is burning in my hall.\n",
      "How far that little candle throws his beams!\n",
      "So shines a good deed in a naughty world.\n",
      "**** 26\n",
      "So doth the greater glory dim the less:\n",
      "A substitute shines brightly as a king\n",
      "Unto the king be by, and then his state\n",
      "Empties itself, as doth an inland brook\n",
      "Into the main of waters. Music! hark!\n",
      "**** 38\n",
      "Nothing is good, I see, without respect:\n",
      "Methinks it sounds much sweeter than by day.\n",
      "**** 15\n",
      "The crow doth sing as sweetly as the lark,\n",
      "When neither is attended, and I think\n",
      "The nightingale, if she should sing by day,\n",
      "When every goose is cackling, would be thought\n",
      "No better a musician than the wren.\n",
      "How many things by season season'd are\n",
      "To their right praise and true perfection!\n",
      "Peace, ho! the moon sleeps with Endymion\n",
      "And would not be awaked.\n",
      "**** 66\n",
      "He knows me as the blind man knows the cuckoo,\n",
      "By the bad voice.\n",
      "**** 14\n",
      "We have been praying for our husbands' healths,\n",
      "Which speed, we hope, the better for our words.\n",
      "Are they return'd?\n",
      "**** 21\n",
      "Go in, Nerissa;\n",
      "Give order to my servants that they take\n",
      "No note at all of our being absent hence;\n",
      "Nor you, Lorenzo; Jessica, nor you.\n",
      "**** 26\n",
      "This night methinks is but the daylight sick;\n",
      "It looks a little paler: 'tis a day,\n",
      "Such as the day is when the sun is hid.\n",
      "**** 26\n",
      "Let me give light, but let me not be light;\n",
      "For a light wife doth make a heavy husband,\n",
      "And never be Bassanio so for me:\n",
      "But God sort all! You are welcome home, my lord.\n",
      "**** 36\n",
      "You should in all sense be much bound to him.\n",
      "For, as I hear, he was much bound for you.\n",
      "**** 20\n",
      "Sir, you are very welcome to our house:\n",
      "It must appear in other ways than words,\n",
      "Therefore I scant this breathing courtesy.\n",
      "**** 22\n",
      "A quarrel, ho, already! what's the matter?\n",
      "**** 8\n",
      "You were to blame, I must be plain with you,\n",
      "To part so slightly with your wife's first gift:\n",
      "A thing stuck on with oaths upon your finger\n",
      "And so riveted with faith unto your flesh.\n",
      "I gave my love a ring and made him swear\n",
      "Never to part with it; and here he stands;\n",
      "I dare be sworn for him he would not leave it\n",
      "Nor pluck it from his finger, for the wealth\n",
      "That the world masters. Now, in faith, Gratiano,\n",
      "You give your wife too unkind a cause of grief:\n",
      "An 'twere to me, I should be mad at it.\n",
      "**** 104\n",
      "What ring gave you my lord?\n",
      "Not that, I hope, which you received of me.\n",
      "**** 15\n",
      "Even so void is your false heart of truth.\n",
      "By heaven, I will ne'er come in your bed\n",
      "Until I see the ring.\n",
      "**** 24\n",
      "If you had known the virtue of the ring,\n",
      "Or half her worthiness that gave the ring,\n",
      "Or your own honour to contain the ring,\n",
      "You would not then have parted with the ring.\n",
      "What man is there so much unreasonable,\n",
      "If you had pleased to have defended it\n",
      "With any terms of zeal, wanted the modesty\n",
      "To urge the thing held as a ceremony?\n",
      "Nerissa teaches me what to believe:\n",
      "I'll die for't but some woman had the ring.\n",
      "**** 82\n",
      "Let not that doctor e'er come near my house:\n",
      "Since he hath got the jewel that I loved,\n",
      "And that which you did swear to keep for me,\n",
      "I will become as liberal as you;\n",
      "I'll not deny him any thing I have,\n",
      "No, not my body nor my husband's bed:\n",
      "Know him I shall, I am well sure of it:\n",
      "Lie not a night from home; watch me like Argus:\n",
      "If you do not, if I be left alone,\n",
      "Now, by mine honour, which is yet mine own,\n",
      "I'll have that doctor for my bedfellow.\n",
      "**** 100\n",
      "Sir, grieve not you; you are welcome notwithstanding.\n",
      "**** 8\n",
      "Mark you but that!\n",
      "In both my eyes he doubly sees himself;\n",
      "In each eye, one: swear by your double self,\n",
      "And there's an oath of credit.\n",
      "**** 28\n",
      "Then you shall be his surety. Give him this\n",
      "And bid him keep it better than the other.\n",
      "**** 18\n",
      "I had it of him: pardon me, Bassanio;\n",
      "For, by this ring, the doctor lay with me.\n",
      "**** 17\n",
      "Speak not so grossly. You are all amazed:\n",
      "Here is a letter; read it at your leisure;\n",
      "It comes from Padua, from Bellario:\n",
      "There you shall find that Portia was the doctor,\n",
      "Nerissa there her clerk: Lorenzo here\n",
      "Shall witness I set forth as soon as you\n",
      "And even but now return'd; I have not yet\n",
      "Enter'd my house. Antonio, you are welcome;\n",
      "And I have better news in store for you\n",
      "Than you expect: unseal this letter soon;\n",
      "There you shall find three of your argosies\n",
      "Are richly come to harbour suddenly:\n",
      "You shall not know by what strange accident\n",
      "I chanced on this letter.\n",
      "**** 108\n",
      "How now, Lorenzo!\n",
      "My clerk hath some good comforts too for you.\n",
      "**** 12\n",
      "It is almost morning,\n",
      "And yet I am sure you are not satisfied\n",
      "Of these events at full. Let us go in;\n",
      "And charge us there upon inter'gatories,\n",
      "And we will answer all things faithfully.\n",
      "**** 36\n"
     ]
    }
   ],
   "source": [
    "for act in merchant.findall('ACT'):\n",
    "    for scene in act.findall('SCENE'):\n",
    "        for speech in scene.findall('SPEECH'):\n",
    "            for speaker in speech.findall('SPEAKER'):\n",
    "                if speaker.text == 'PORTIA':\n",
    "                    tally = 0\n",
    "                    for line in speech.findall('LINE'):\n",
    "                        if line.text:\n",
    "                            print(line.text)\n",
    "                            tally += len([w for w in tokenizer.tokenize(line.text)])\n",
    "                    print('****', str(tally))\n"
   ]
  },
  {
   "cell_type": "markdown",
   "metadata": {},
   "source": [
    "*Upon cursory inspection, it appears to be correct.*\n",
    "\n",
    "##### 13.\n",
    "\n",
    "★ Obtain a comparative wordlist in CSV format, and write a program that prints those cognates having an edit-distance of at least three from each other.\n",
    "\n",
    "*__I believe the instructions should read \"an edit-distance of at most three.__  With edit distances, smaller numbers indicate words are similar.  Anything higher than three indicates that the words are quite dissimilar.  Unless the authors are asking us to find cognates that are orthographically dissimilar, we should be looking for pairs of words with smaller edit distances.*\n",
    "\n",
    "*I couldn't find any \"ready-made\" comparative wordlists in CSV format, so I mashed one together by using some of the Swadesh wordlists found at [this github repo](https://github.com/pannous/swadesh \"github repo w/ Swadesh wordlists\"), as well as some of the Swadesh wordlists found in [this Wikipedia appendix](https://en.wiktionary.org/wiki/Appendix:Swadesh_lists \"Swadesh Lists\"). For this exercise I used wordlists in English, French, German, Italian, Latin, Russian (romanized), Spanish, Dutch, Swedish, and Sanskrit.  The Wikipedia Appendix has scores of wordlists; but I couldn't be bothered to scrape all of them to make one huge wordlist for this exercise.  There also seems to be a slight discrepancy in some of the wordlists: some of the wordlists have entries for both the formal and informal versions of 'you'. I manually edited the columns for those languages with only the informal version.  A copy of my CSV has been uploaded to my [github repo](https://github.com/Sturzgefahr/Natural-Language-Processing-with-Python-Analyzing-Text-with-the-Natural-Language-Toolkit/blob/master/Chapter%2011/Swadesh%20Lists.csv \"My Swadesh List\").*\n",
    "\n",
    "*Frankly, using edit distance is not a good way to find cognates: the number of false hits is too high, especially with shorter words.*\n",
    "\n"
   ]
  },
  {
   "cell_type": "code",
   "execution_count": 537,
   "metadata": {},
   "outputs": [],
   "source": [
    "# import csv\n",
    "\n",
    "# swadesh = []\n",
    "\n",
    "# with open('Swadesh Lists.csv', 'r', encoding = 'utf-8-sig') as f:\n",
    "#     reader = csv.reader(f, delimiter = \",\")\n",
    "#     for row in reader:\n",
    "#         swadesh.append(row)"
   ]
  },
  {
   "cell_type": "code",
   "execution_count": 538,
   "metadata": {},
   "outputs": [],
   "source": [
    "def find_swadesh_cognates(word):\n",
    "    \"\"\"\n",
    "    Uses Swadesh wordlists to find pairs of words with small edit\n",
    "    distances.\n",
    "    \"\"\"\n",
    "    flag = True\n",
    "    for row in swadesh:\n",
    "        for i in range(2, len(row)):\n",
    "            if i % 2 == 0:\n",
    "                if nltk.edit_distance(word, row[i]) < 3:\n",
    "                    if flag:\n",
    "                        print(\"Near matches for '{}' are:\\n\".format(word))\n",
    "                    print(\"{:4}{:9} {:12} English: {}\".format(\"\", \n",
    "                                                  row[i + 1] + \":\", \n",
    "                                                  row[i], row[0]))\n",
    "                    flag = False\n",
    "                    \n",
    "    if flag:\n",
    "        print(\"No matches were found.\")"
   ]
  },
  {
   "cell_type": "code",
   "execution_count": 539,
   "metadata": {},
   "outputs": [
    {
     "name": "stdout",
     "output_type": "stream",
     "text": [
      "No matches were found.\n"
     ]
    }
   ],
   "source": [
    "find_swadesh_cognates('animal')"
   ]
  },
  {
   "cell_type": "code",
   "execution_count": 540,
   "metadata": {},
   "outputs": [
    {
     "name": "stdout",
     "output_type": "stream",
     "text": [
      "No matches were found.\n"
     ]
    }
   ],
   "source": [
    "find_swadesh_cognates('feather')"
   ]
  },
  {
   "cell_type": "code",
   "execution_count": 541,
   "metadata": {},
   "outputs": [
    {
     "name": "stdout",
     "output_type": "stream",
     "text": [
      "No matches were found.\n"
     ]
    }
   ],
   "source": [
    "find_swadesh_cognates('stand')"
   ]
  },
  {
   "cell_type": "code",
   "execution_count": 542,
   "metadata": {},
   "outputs": [
    {
     "name": "stdout",
     "output_type": "stream",
     "text": [
      "No matches were found.\n"
     ]
    }
   ],
   "source": [
    "find_swadesh_cognates('name')"
   ]
  },
  {
   "cell_type": "markdown",
   "metadata": {},
   "source": [
    "##### 14. \n",
    "\n",
    "★ Build an index of those lexemes which appear in example sentences. Suppose the lexeme for a given entry is $w$. Then add a single cross-reference field `xrf` to this entry, referencing the headwords of other entries having example sentences containing $w$. Do this for all entries and save the result as a toolbox-format file.\n",
    "\n",
    "*The only language whose toolbox-format lexicon I have access to is Rotokas.  I know nothing of the grammar of Rotokas; but it appears that the language is heavily inflected, which means that it probably would not be a good language for this exercise.  The reason is that since words in Rotokas change based upon how they're used in a sentence, we're very unlikely to find dictionary forms of the words in our examples, thus making it very difficult check if the words in the examples are in our lexicon.*  "
   ]
  },
  {
   "cell_type": "code",
   "execution_count": 543,
   "metadata": {},
   "outputs": [],
   "source": [
    "from nltk.corpus import toolbox\n",
    "lexicon = toolbox.xml('rotokas.dic')"
   ]
  },
  {
   "cell_type": "markdown",
   "metadata": {},
   "source": [
    "*Make a list of lexemes in our lexicon:*"
   ]
  },
  {
   "cell_type": "code",
   "execution_count": 544,
   "metadata": {},
   "outputs": [],
   "source": [
    "lexemes = [lexeme.text.lower() for lexeme in lexicon.findall('record/lx')]"
   ]
  },
  {
   "cell_type": "markdown",
   "metadata": {},
   "source": [
    "*Make a list of words used as examples.  Each example naturally has an occurrence of its entry word, and we'll need to remove that since we don't need words referencing themselves.  The words in this list will be saved as tuples: the first item in the tuple will be the entry word, and the second item will be a set of all the words used in the example. Some words don't have examples, and we need to add a line to the `for`-loop to prevent these words from inheriting their predecessor's example words.*"
   ]
  },
  {
   "cell_type": "code",
   "execution_count": 546,
   "metadata": {},
   "outputs": [],
   "source": [
    "lex=[]\n",
    "tokenizer = nltk.tokenize.RegexpTokenizer(r'\\w+')\n",
    "\n",
    "example_words = []\n",
    "\n",
    "for entry in lexicon:\n",
    "    # re-initialize for each word, so that words without examples\n",
    "    # don't inherit the last word's examples\n",
    "    ex = \"\"\n",
    "    for lexeme in entry.findall('lx'):\n",
    "        lex = lexeme.text.lower() \n",
    "    for example in entry.findall('ex'):\n",
    "        ex = set([w.lower() for w in tokenizer.tokenize(example.text)])\n",
    "        # remove entry word from example, so the entry words don't\n",
    "        # add references to themselves later\n",
    "        if lex in ex:\n",
    "            ex.remove(lex)\n",
    "    example_words.append((lex, ex))"
   ]
  },
  {
   "cell_type": "code",
   "execution_count": 547,
   "metadata": {},
   "outputs": [
    {
     "data": {
      "text/plain": [
       "[('kuvuara', {'oara', 'ragai', 'vaararoa', 'varao', 'voriavo'}),\n",
       " ('kuvukuvu',\n",
       "  {'aue',\n",
       "   'ia',\n",
       "   'koue',\n",
       "   'kuvukuvuivo',\n",
       "   'rasitoa',\n",
       "   'tutupaoro',\n",
       "   'vara',\n",
       "   'veeta'}),\n",
       " ('kuvukuvua',\n",
       "  {'ia',\n",
       "   'kuvkuvua',\n",
       "   'pauro',\n",
       "   'purarevo',\n",
       "   'rasitoa',\n",
       "   'totoueua',\n",
       "   'tovaoro',\n",
       "   'va'}),\n",
       " ('kuvupato', {'kavirurevo', 'pita', 'ragai', 'reraaro'}),\n",
       " ('kuvuto', '')]"
      ]
     },
     "execution_count": 547,
     "metadata": {},
     "output_type": "execute_result"
    }
   ],
   "source": [
    "example_words[-5:]"
   ]
  },
  {
   "cell_type": "markdown",
   "metadata": {},
   "source": [
    "*Function to add lookup for references:*"
   ]
  },
  {
   "cell_type": "code",
   "execution_count": 548,
   "metadata": {},
   "outputs": [],
   "source": [
    "from xml.etree.ElementTree import SubElement\n",
    "\n",
    "\n",
    "def add_xrf_field(lexicon, lookup, headword):\n",
    "    for entry in lexicon:\n",
    "        for field in entry:\n",
    "            if field.tag == 'lx':\n",
    "                if field.text == lookup:\n",
    "                    xrf_field = SubElement(entry, 'xrf')\n",
    "                    xrf_field.text = headword"
   ]
  },
  {
   "cell_type": "markdown",
   "metadata": {},
   "source": [
    "*How an entry appears before references are added:*"
   ]
  },
  {
   "cell_type": "code",
   "execution_count": 549,
   "metadata": {},
   "outputs": [
    {
     "name": "stdout",
     "output_type": "stream",
     "text": [
      "\\lx kare\n",
      "\\ps FFP\n",
      "\\ge animals\n",
      "\\tkp plenti\n",
      "\\dt 17/Oct/2005\n",
      "\\ex O karevu koie kare kouevo ita akova.\n",
      "\\xp Pik mama i karim ol narapela pik.\n",
      "\\xe The mother carried the other pigs.\n",
      "\n"
     ]
    }
   ],
   "source": [
    "display_complete_entry(lexicon, 'kare')"
   ]
  },
  {
   "cell_type": "markdown",
   "metadata": {},
   "source": [
    "*Adding references:*"
   ]
  },
  {
   "cell_type": "code",
   "execution_count": 550,
   "metadata": {},
   "outputs": [],
   "source": [
    "for row in example_words:\n",
    "    for w in row[1]:\n",
    "        if w in lexemes:\n",
    "            add_xrf_field(lexicon, w, row[0])"
   ]
  },
  {
   "cell_type": "markdown",
   "metadata": {},
   "source": [
    "*Looking at the same entry to ensure references have been added:*"
   ]
  },
  {
   "cell_type": "code",
   "execution_count": 551,
   "metadata": {},
   "outputs": [
    {
     "name": "stdout",
     "output_type": "stream",
     "text": [
      "\\lx kare\n",
      "\\ps FFP\n",
      "\\ge animals\n",
      "\\tkp plenti\n",
      "\\dt 17/Oct/2005\n",
      "\\ex O karevu koie kare kouevo ita akova.\n",
      "\\xp Pik mama i karim ol narapela pik.\n",
      "\\xe The mother carried the other pigs.\n",
      "\\xrf kaakaaviko\n",
      "\\xrf kaakau\n",
      "\\xrf kaareto\n",
      "\\xrf kakiua\n",
      "\\xrf kapiua\n",
      "\\xrf karakaroto\n",
      "\\xrf karaova\n",
      "\\xrf karekepie\n",
      "\\xrf kasiura\n",
      "\\xrf keeriva\n",
      "\\xrf keevuruvira\n",
      "\\xrf kepia\n",
      "\\xrf keravo\n",
      "\\xrf keriva\n",
      "\\xrf kevira\n",
      "\\xrf kiikariko\n",
      "\\xrf kokopuoto\n",
      "\\xrf kokoroku\n",
      "\\xrf koruou\n",
      "\\xrf koruovira\n",
      "\\xrf kovokovoa\n",
      "\\xrf kovovo\n",
      "\n"
     ]
    }
   ],
   "source": [
    "display_complete_entry(lexicon, 'kare')"
   ]
  },
  {
   "cell_type": "markdown",
   "metadata": {},
   "source": [
    "*Looking at the last cross reference to confirm 'kare' was used in the example:*"
   ]
  },
  {
   "cell_type": "code",
   "execution_count": 552,
   "metadata": {},
   "outputs": [
    {
     "name": "stdout",
     "output_type": "stream",
     "text": [
      "\\lx kovovo\n",
      "\\rt kovo\n",
      "\\ps V\n",
      "\\pt B\n",
      "\\ge fence\n",
      "\\ge protect\n",
      "\\tkp banisim\n",
      "\\arg O\n",
      "\\vx 2\n",
      "\\dt 08/Jun/2005\n",
      "\\ex Kepa kovovo va utoro.\n",
      "\\xp Yo banisim house bikol?? Em kolor tumas.\n",
      "\\xe ???\n",
      "\\ex Koue karen kovovo sapi kovoa aioive.\n",
      "\\xp You mekim fence long gut of ikaikaim garden.\n",
      "\\xe ???\n",
      "\\ex Koue kare kovovori ikauvira teapi kosiaviro kovoara aiosia.\n",
      "\\xp Yu banisim kwik ol pik, nogut ol i kam arasait na kaikaim ol gaden.\n",
      "\\xe Fence the pigs quickly lest they escape and eat the gardens.\n",
      "\n"
     ]
    }
   ],
   "source": [
    "display_complete_entry(lexicon, 'kovovo')"
   ]
  },
  {
   "cell_type": "markdown",
   "metadata": {},
   "source": [
    "\n",
    "\n",
    "##### 15.\n",
    "\n",
    "◑ Write a recursive function to produce an XML representation for a tree, with non-terminals represented as XML elements, and leaves represented as text content, e.g.:\n",
    "\n",
    "```\n",
    "<S>\n",
    "  <NP type=\"SBJ\">\n",
    "    <NP>\n",
    "      <NNP>Pierre</NNP>\n",
    "      <NNP>Vinken</NNP>\n",
    "    </NP>\n",
    "    <COMMA>,</COMMA>\n",
    "```"
   ]
  },
  {
   "cell_type": "code",
   "execution_count": 553,
   "metadata": {},
   "outputs": [],
   "source": [
    "import re\n",
    "\n",
    "def parse_to_xml(tree, indent = \"  \"):  \n",
    "    \"\"\"\n",
    "    Converts parsed sentence to xml string.\n",
    "    \"\"\"\n",
    "    # terminals\n",
    "    if tree.height() == 2:\n",
    "        print(\"{}<{}>{}</{}>\".format(indent, tree.label(), \n",
    "                                      tree.leaves()[0], tree.label()))\n",
    "    # non-terminals\n",
    "    else:\n",
    "        # if label has hyphens, they are to be replaced as 'type ='\n",
    "        if '-' in tree.label():\n",
    "            pattern = re.compile(r\"(\\w+)-(\\w+)\")\n",
    "            tag = re.findall(pattern, tree.label())[0]\n",
    "            full_tag = '{} type=\"{}\"'.format(tag[0], tag[1])\n",
    "        else:\n",
    "            full_tag = tree.label()\n",
    "            \n",
    "        print(\"{}<{}>\".format(indent, full_tag))\n",
    "        for child in tree:\n",
    "            parse_to_xml(child, indent = indent + \"  \")\n",
    "        print('{}</{}>'.format(indent, full_tag))\n"
   ]
  },
  {
   "cell_type": "code",
   "execution_count": 555,
   "metadata": {},
   "outputs": [],
   "source": [
    "# for t in treebank.parsed_sents()[:5]:\n",
    "#     parse_to_xml(t)"
   ]
  }
 ],
 "metadata": {
  "kernelspec": {
   "display_name": "Python 3",
   "language": "python",
   "name": "python3"
  },
  "language_info": {
   "codemirror_mode": {
    "name": "ipython",
    "version": 3
   },
   "file_extension": ".py",
   "mimetype": "text/x-python",
   "name": "python",
   "nbconvert_exporter": "python",
   "pygments_lexer": "ipython3",
   "version": "3.10.11"
  }
 },
 "nbformat": 4,
 "nbformat_minor": 2
}
